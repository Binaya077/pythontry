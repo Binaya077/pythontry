{
  "nbformat": 4,
  "nbformat_minor": 0,
  "metadata": {
    "colab": {
      "provenance": [],
      "authorship_tag": "ABX9TyNCB3wzqBd0yW2hMusITMml",
      "include_colab_link": true
    },
    "kernelspec": {
      "name": "python3",
      "display_name": "Python 3"
    },
    "language_info": {
      "name": "python"
    }
  },
  "cells": [
    {
      "cell_type": "markdown",
      "metadata": {
        "id": "view-in-github",
        "colab_type": "text"
      },
      "source": [
        "<a href=\"https://colab.research.google.com/github/Binaya077/pythontry/blob/test/string_indexing_and_function.ipynb\" target=\"_parent\"><img src=\"https://colab.research.google.com/assets/colab-badge.svg\" alt=\"Open In Colab\"/></a>"
      ]
    },
    {
      "cell_type": "code",
      "execution_count": null,
      "metadata": {
        "colab": {
          "base_uri": "https://localhost:8080/"
        },
        "id": "oYr-aAo9MuYS",
        "outputId": "ddafcfbe-2233-4b1c-aa31-d365bae79990"
      },
      "outputs": [
        {
          "output_type": "stream",
          "name": "stdout",
          "text": [
            "None\n"
          ]
        },
        {
          "output_type": "execute_result",
          "data": {
            "text/plain": [
              "NoneType"
            ]
          },
          "metadata": {},
          "execution_count": 6
        }
      ],
      "source": [
        "non_value=None #non placeholder object\n",
        "print(non_value)\n",
        "type(non_value)"
      ]
    },
    {
      "cell_type": "code",
      "source": [
        "#to check whether value is int or not\n",
        "int_value=5\n",
        "isinstance(int_value,int)\n"
      ],
      "metadata": {
        "colab": {
          "base_uri": "https://localhost:8080/"
        },
        "id": "2CqV4r3oPI1c",
        "outputId": "9cdfb0ad-2e3f-4fcb-d992-e6f4f610e60b"
      },
      "execution_count": null,
      "outputs": [
        {
          "output_type": "execute_result",
          "data": {
            "text/plain": [
              "True"
            ]
          },
          "metadata": {},
          "execution_count": 27
        }
      ]
    },
    {
      "cell_type": "code",
      "source": [
        "float_value=2e1 # it is like 2*10^1\n",
        "print(float_value)\n",
        "id(float_value)\n"
      ],
      "metadata": {
        "colab": {
          "base_uri": "https://localhost:8080/"
        },
        "id": "fqmVNTeyQPgF",
        "outputId": "922c7e63-5c32-433d-d895-21d3d2bad683"
      },
      "execution_count": null,
      "outputs": [
        {
          "output_type": "stream",
          "name": "stdout",
          "text": [
            "20.0\n"
          ]
        },
        {
          "output_type": "execute_result",
          "data": {
            "text/plain": [
              "139847256292080"
            ]
          },
          "metadata": {},
          "execution_count": 18
        }
      ]
    },
    {
      "cell_type": "code",
      "source": [
        "complex_value=1+2j\n",
        "(complex_value)"
      ],
      "metadata": {
        "colab": {
          "base_uri": "https://localhost:8080/"
        },
        "id": "sANCoKxgRdmY",
        "outputId": "bb8df229-94e2-4cf8-cf0a-375dfa0ce218"
      },
      "execution_count": null,
      "outputs": [
        {
          "output_type": "execute_result",
          "data": {
            "text/plain": [
              "(1+2j)"
            ]
          },
          "metadata": {},
          "execution_count": 20
        }
      ]
    },
    {
      "cell_type": "code",
      "source": [
        "complex_value=complex(1,2)\n",
        "complex_value.real #for real\n",
        "complex_value.imag #for imaginary"
      ],
      "metadata": {
        "colab": {
          "base_uri": "https://localhost:8080/"
        },
        "id": "AZKAJPS2R6sd",
        "outputId": "4961b709-e365-415e-aeb3-bb812f08ffae"
      },
      "execution_count": null,
      "outputs": [
        {
          "output_type": "execute_result",
          "data": {
            "text/plain": [
              "2.0"
            ]
          },
          "metadata": {},
          "execution_count": 36
        }
      ]
    },
    {
      "cell_type": "code",
      "source": [
        "complex_number=0j\n",
        "type(complex_number)\n",
        "print(complex_number)"
      ],
      "metadata": {
        "colab": {
          "base_uri": "https://localhost:8080/"
        },
        "id": "Qu3KxG9PUKbf",
        "outputId": "1e61b439-183c-4181-aa74-da7121f96307"
      },
      "execution_count": null,
      "outputs": [
        {
          "output_type": "stream",
          "name": "stdout",
          "text": [
            "0j\n"
          ]
        }
      ]
    },
    {
      "cell_type": "code",
      "source": [
        "complex_number=complex(2,3) #create complex number using function complex and pass argument(2,3)\n",
        "print(complex_number)"
      ],
      "metadata": {
        "colab": {
          "base_uri": "https://localhost:8080/"
        },
        "id": "C72_47F5UcG9",
        "outputId": "4806787f-7c84-43ea-88c0-b5b1800f90bb"
      },
      "execution_count": null,
      "outputs": [
        {
          "output_type": "stream",
          "name": "stdout",
          "text": [
            "(2+3j)\n"
          ]
        }
      ]
    },
    {
      "cell_type": "code",
      "source": [
        "a=int(input(\"enter first number\"))\n",
        "b=int(input(\"enter second number\"))\n",
        "if (a>b):\n",
        "  print(\"a is greater than b\") #give two space in collab but in vs code give four space\n",
        "if(a==b):\n",
        "  print(\"a is equal to b\")\n",
        "if(a<b):\n",
        "  print(\"a is less than b\")\n"
      ],
      "metadata": {
        "colab": {
          "base_uri": "https://localhost:8080/"
        },
        "id": "uCKSnOUkWLhr",
        "outputId": "c7f61f30-02d9-4dec-9055-b4a5cf744da3"
      },
      "execution_count": null,
      "outputs": [
        {
          "output_type": "stream",
          "name": "stdout",
          "text": [
            "enter first number2\n",
            "enter second number2\n",
            "a is equal to b\n"
          ]
        }
      ]
    },
    {
      "cell_type": "code",
      "source": [
        "#assert keyword to check whether single quote is equal to double quote\n",
        "double_quote=\"binaya\"\n",
        "single_quote='binaya'\n",
        "assert double_quote == single_quote,\"strings are different\""
      ],
      "metadata": {
        "id": "aHJemD_PY9_U"
      },
      "execution_count": null,
      "outputs": []
    },
    {
      "cell_type": "code",
      "source": [
        "#multiline string\n",
        "multline_string=\"\"\"\n",
        "                    hi my name is binaya.\n",
        "                    i am graduated\"\"\"\n",
        "print(multline_string)"
      ],
      "metadata": {
        "colab": {
          "base_uri": "https://localhost:8080/"
        },
        "id": "h05l-is7c90M",
        "outputId": "e4f3effe-b35b-4dd1-ee9d-94ad999a73f7"
      },
      "execution_count": null,
      "outputs": [
        {
          "output_type": "stream",
          "name": "stdout",
          "text": [
            " \n",
            "                    hi my name is binaya.\n",
            "                    i am graduated\n"
          ]
        }
      ]
    },
    {
      "cell_type": "code",
      "source": [
        "singleline_string= \"**Hi I'm learning string creation.**\"\n",
        "print(singleline_string)"
      ],
      "metadata": {
        "colab": {
          "base_uri": "https://localhost:8080/"
        },
        "id": "UHdhBl9Hds6G",
        "outputId": "590f4e6e-e591-42eb-cb2e-6c98e4f4132f"
      },
      "execution_count": null,
      "outputs": [
        {
          "output_type": "stream",
          "name": "stdout",
          "text": [
            "**Hi I'm learning string creation.**\n"
          ]
        }
      ]
    },
    {
      "cell_type": "code",
      "source": [
        "#string concat\n",
        "a=\"string\"\n",
        "b=\"concat\"\n",
        "c=2\n",
        "concat=a+\" \"+b\n",
        "print(concat)\n"
      ],
      "metadata": {
        "colab": {
          "base_uri": "https://localhost:8080/"
        },
        "id": "ZFCzgxBNe8EI",
        "outputId": "0ae6c8db-83a3-4ff2-91ec-680345d4bab6"
      },
      "execution_count": null,
      "outputs": [
        {
          "output_type": "stream",
          "name": "stdout",
          "text": [
            "string concat\n"
          ]
        }
      ]
    },
    {
      "cell_type": "markdown",
      "source": [
        "## STRING INDEXING"
      ],
      "metadata": {
        "id": "tg3bvkA0aPJ3"
      }
    },
    {
      "cell_type": "code",
      "source": [
        "string=\"binaya\" #string indexing\n",
        "print(string[2])"
      ],
      "metadata": {
        "colab": {
          "base_uri": "https://localhost:8080/"
        },
        "id": "etBeaX5TVOlz",
        "outputId": "f953bf3a-d869-478a-b312-6f8afdbc0e8e"
      },
      "execution_count": null,
      "outputs": [
        {
          "output_type": "stream",
          "name": "stdout",
          "text": [
            "n\n"
          ]
        }
      ]
    },
    {
      "cell_type": "code",
      "source": [
        "strings=\"helmo\"\n",
        "print(strings[0:3:1]) #[start:stop:step]"
      ],
      "metadata": {
        "colab": {
          "base_uri": "https://localhost:8080/"
        },
        "id": "bltgWbP4XMzY",
        "outputId": "b4c7d6b3-58ac-4fe0-bd36-97a24b0097f6"
      },
      "execution_count": null,
      "outputs": [
        {
          "output_type": "stream",
          "name": "stdout",
          "text": [
            "hel\n"
          ]
        }
      ]
    },
    {
      "cell_type": "code",
      "source": [
        "a=\"pokhrel\"\n",
        "print(a[0:4]) #stop takes (4-1) i.e 3 index"
      ],
      "metadata": {
        "colab": {
          "base_uri": "https://localhost:8080/"
        },
        "id": "8dyAegXsZVuy",
        "outputId": "533cc843-e62d-458a-9a3f-57c482ca8d3d"
      },
      "execution_count": null,
      "outputs": [
        {
          "output_type": "stream",
          "name": "stdout",
          "text": [
            "pokh\n"
          ]
        }
      ]
    },
    {
      "cell_type": "code",
      "source": [
        "a=\"pokhrel\"\n",
        "print(a[-2]) #negative indexing start from -1 from right to left"
      ],
      "metadata": {
        "colab": {
          "base_uri": "https://localhost:8080/"
        },
        "id": "HTLvCx7zZ5yj",
        "outputId": "b45b0cdb-a481-4198-febf-3ec4fad29177"
      },
      "execution_count": null,
      "outputs": [
        {
          "output_type": "stream",
          "name": "stdout",
          "text": [
            "e\n"
          ]
        }
      ]
    },
    {
      "cell_type": "code",
      "source": [
        "a=\"pokhrel\" #reverse string\n",
        "print(a[-1:-8:-1])"
      ],
      "metadata": {
        "colab": {
          "base_uri": "https://localhost:8080/"
        },
        "id": "R3rrNaI_ab6S",
        "outputId": "c0b3a753-4df3-421b-f79b-568e4b38979c"
      },
      "execution_count": null,
      "outputs": [
        {
          "output_type": "stream",
          "name": "stdout",
          "text": [
            "lerhkop\n"
          ]
        }
      ]
    },
    {
      "cell_type": "code",
      "source": [
        "a=\"binaya pokhrel\" #reverse string\n",
        "print(a[::-1]) #samething as above\n"
      ],
      "metadata": {
        "colab": {
          "base_uri": "https://localhost:8080/"
        },
        "id": "u-UHVEbhd18B",
        "outputId": "0fe73b2c-6ee7-42c6-bb75-2b9ba65fda9a"
      },
      "execution_count": null,
      "outputs": [
        {
          "output_type": "stream",
          "name": "stdout",
          "text": [
            "lerhkop ayanib\n"
          ]
        }
      ]
    },
    {
      "cell_type": "code",
      "source": [
        "#strings are immutable\n",
        "a=\"Binaya\"\n",
        "a[0]=\"b\"\n",
        "#so trying to replace B with b isnot possible"
      ],
      "metadata": {
        "id": "4jlvlEnOfxhe"
      },
      "execution_count": null,
      "outputs": []
    },
    {
      "cell_type": "code",
      "source": [
        "#string to upper case\n",
        "a=\"binaya pokhrel\"\n",
        "print(a.upper())"
      ],
      "metadata": {
        "colab": {
          "base_uri": "https://localhost:8080/"
        },
        "id": "ZgxwelT5hl8Y",
        "outputId": "36c03251-28d3-45ae-9137-b4cf354eae16"
      },
      "execution_count": null,
      "outputs": [
        {
          "output_type": "stream",
          "name": "stdout",
          "text": [
            "BINAYA POKHREL\n"
          ]
        }
      ]
    },
    {
      "cell_type": "code",
      "source": [
        "#split string\n",
        "a.split()"
      ],
      "metadata": {
        "colab": {
          "base_uri": "https://localhost:8080/"
        },
        "id": "m4RSEWSJiuOQ",
        "outputId": "d02f5a04-79e1-4809-8a96-dfb2dd94423c"
      },
      "execution_count": null,
      "outputs": [
        {
          "output_type": "execute_result",
          "data": {
            "text/plain": [
              "['binaya', 'pokhrel']"
            ]
          },
          "metadata": {},
          "execution_count": 57
        }
      ]
    },
    {
      "cell_type": "code",
      "source": [
        "a.split(\"binaya\")"
      ],
      "metadata": {
        "colab": {
          "base_uri": "https://localhost:8080/"
        },
        "id": "iB83jgg5jFZa",
        "outputId": "020249f6-22a4-4171-ba6e-94b11ab65773"
      },
      "execution_count": null,
      "outputs": [
        {
          "output_type": "execute_result",
          "data": {
            "text/plain": [
              "['', ' pokhrel']"
            ]
          },
          "metadata": {},
          "execution_count": 58
        }
      ]
    },
    {
      "cell_type": "code",
      "source": [
        "to_replace=\"binaya\" # for replacing string used replace function\n",
        "replace_by=\"samir\"\n",
        "a.replace(to_replace,replace_by)"
      ],
      "metadata": {
        "colab": {
          "base_uri": "https://localhost:8080/",
          "height": 35
        },
        "id": "0xuAUz7yjUqJ",
        "outputId": "6d991590-c952-41bc-dd61-5d8991ad2d38"
      },
      "execution_count": null,
      "outputs": [
        {
          "output_type": "execute_result",
          "data": {
            "text/plain": [
              "'samir pokhrel'"
            ],
            "application/vnd.google.colaboratory.intrinsic+json": {
              "type": "string"
            }
          },
          "metadata": {},
          "execution_count": 60
        }
      ]
    },
    {
      "cell_type": "code",
      "source": [
        "b=\"123\"\n",
        "b.isdigit() #to check string or number\n"
      ],
      "metadata": {
        "colab": {
          "base_uri": "https://localhost:8080/"
        },
        "id": "qsU07gzFkHen",
        "outputId": "001d4d61-8ce5-4e0b-e65c-e75346840c25"
      },
      "execution_count": null,
      "outputs": [
        {
          "output_type": "execute_result",
          "data": {
            "text/plain": [
              "True"
            ]
          },
          "metadata": {},
          "execution_count": 68
        }
      ]
    },
    {
      "cell_type": "code",
      "source": [
        "#strip function replace heading and trailing\n",
        "r=\"!! binaya pokhrel !!\"\n",
        "r.strip(\"!!\")"
      ],
      "metadata": {
        "colab": {
          "base_uri": "https://localhost:8080/",
          "height": 35
        },
        "id": "KhqFF8-zk9TP",
        "outputId": "8dd91eea-35a2-4408-99f4-f6850cf9854f"
      },
      "execution_count": null,
      "outputs": [
        {
          "output_type": "execute_result",
          "data": {
            "text/plain": [
              "' binaya pokhrel '"
            ],
            "application/vnd.google.colaboratory.intrinsic+json": {
              "type": "string"
            }
          },
          "metadata": {},
          "execution_count": 5
        }
      ]
    },
    {
      "cell_type": "code",
      "source": [
        "#string formating\n",
        "a=input(\"enter user name\\n\")\n",
        "b=int(input(\"enter user age\\n\"))\n",
        "print(\"hello {}.Your age is {}\".format(a,b)) #first way\n",
        "f\"hello {a}.Your age is {b}\" #second way"
      ],
      "metadata": {
        "colab": {
          "base_uri": "https://localhost:8080/",
          "height": 122
        },
        "id": "rHvOcuC7lcjD",
        "outputId": "9aefa5fe-351c-426c-f5d0-f415b0bad739"
      },
      "execution_count": null,
      "outputs": [
        {
          "output_type": "stream",
          "name": "stdout",
          "text": [
            "enter user name\n",
            "binaya pokhrel\n",
            "enter user age\n",
            "24\n",
            "hello binaya pokhrel.Your age is 24\n"
          ]
        },
        {
          "output_type": "execute_result",
          "data": {
            "text/plain": [
              "'hello binaya pokhrel.Your age is 24'"
            ],
            "application/vnd.google.colaboratory.intrinsic+json": {
              "type": "string"
            }
          },
          "metadata": {},
          "execution_count": 2
        }
      ]
    },
    {
      "cell_type": "code",
      "source": [
        "string=\"binaya pokhrel!!\"\n",
        "f\"length of string is {len(string)}\""
      ],
      "metadata": {
        "colab": {
          "base_uri": "https://localhost:8080/",
          "height": 35
        },
        "id": "v5XBExZUdJOq",
        "outputId": "64a7a36e-268d-4b31-c7cf-f7d54100b268"
      },
      "execution_count": null,
      "outputs": [
        {
          "output_type": "execute_result",
          "data": {
            "text/plain": [
              "'length of string is 16'"
            ],
            "application/vnd.google.colaboratory.intrinsic+json": {
              "type": "string"
            }
          },
          "metadata": {},
          "execution_count": 11
        }
      ]
    },
    {
      "cell_type": "code",
      "source": [
        "#loop to print individual character\n",
        "for char in string:\n",
        "  print(char)\n",
        "  print(\"--------\")"
      ],
      "metadata": {
        "colab": {
          "base_uri": "https://localhost:8080/"
        },
        "id": "KUlO6RL3g84N",
        "outputId": "df8c0942-43a9-4620-d689-f2f65dae5a0c"
      },
      "execution_count": null,
      "outputs": [
        {
          "output_type": "stream",
          "name": "stdout",
          "text": [
            "b\n",
            "--------\n",
            "i\n",
            "--------\n",
            "n\n",
            "--------\n",
            "a\n",
            "--------\n",
            "y\n",
            "--------\n",
            "a\n",
            "--------\n",
            " \n",
            "--------\n",
            "p\n",
            "--------\n",
            "o\n",
            "--------\n",
            "k\n",
            "--------\n",
            "h\n",
            "--------\n",
            "r\n",
            "--------\n",
            "e\n",
            "--------\n",
            "l\n",
            "--------\n",
            "!\n",
            "--------\n",
            "!\n",
            "--------\n"
          ]
        }
      ]
    },
    {
      "cell_type": "code",
      "source": [
        "#using range funnction for loop. syntax: range(start, end, step)\n",
        "string=\"ram\"\n",
        "for idx in range(len(string)):\n",
        " print(idx)\n",
        " print(string[idx])\n",
        " print(\"----------\")\n",
        "\n"
      ],
      "metadata": {
        "colab": {
          "base_uri": "https://localhost:8080/"
        },
        "id": "6OK44i7liM1j",
        "outputId": "b0480e57-c8ff-4900-feb4-5536164d8b2a"
      },
      "execution_count": null,
      "outputs": [
        {
          "output_type": "stream",
          "name": "stdout",
          "text": [
            "0\n",
            "r\n",
            "----------\n",
            "1\n",
            "a\n",
            "----------\n",
            "2\n",
            "m\n",
            "----------\n"
          ]
        }
      ]
    },
    {
      "cell_type": "markdown",
      "source": [
        "## Some Assignment"
      ],
      "metadata": {
        "id": "vQES77VclkBm"
      }
    },
    {
      "cell_type": "code",
      "source": [
        "#print length of string without using len function by using function\n",
        "\n",
        "def string_length(my_string):\n",
        "  int_count=0\n",
        "  for length in my_string:\n",
        "   int_count=int_count+1\n",
        "  return int_count\n",
        "\n",
        "some_string=input(\"enter string\\n\")\n",
        "lengths=string_length(some_string)\n",
        "print(\"the length of string is\",lengths)\n",
        "\n",
        "\n",
        "\n"
      ],
      "metadata": {
        "id": "2uRjq-11f-q6",
        "colab": {
          "base_uri": "https://localhost:8080/"
        },
        "outputId": "0669b2e3-3638-427f-ffd8-e858fecc069a"
      },
      "execution_count": null,
      "outputs": [
        {
          "output_type": "stream",
          "name": "stdout",
          "text": [
            "enter string\n",
            "kathmandu\n",
            "the length of string is 9\n"
          ]
        }
      ]
    },
    {
      "cell_type": "code",
      "source": [
        "#next way to print length\n",
        "some_string=input(\"enter string\\n\")\n",
        "int_count=0\n",
        "for length in some_string:\n",
        "   int_count=int_count+1\n",
        "print(\"length of string is\",int_count)\n",
        "\n"
      ],
      "metadata": {
        "colab": {
          "base_uri": "https://localhost:8080/"
        },
        "id": "_x-2vejbnaeK",
        "outputId": "fe15787f-be1d-4015-f206-baf9d8ed0b0e"
      },
      "execution_count": null,
      "outputs": [
        {
          "output_type": "stream",
          "name": "stdout",
          "text": [
            "enter string\n",
            "gin\n",
            "length of string is 3\n"
          ]
        }
      ]
    },
    {
      "cell_type": "code",
      "source": [
        "#write program to print vowel and consonant on given string\n",
        "\n",
        "char=input(\"enter the character\\n\")\n",
        "to=char.upper()\n",
        "if(to=='A' or to== 'E' or to== 'I' or to== 'O' or to== 'U'):\n",
        " print(to+\" is\"+\" Vowel\")\n",
        "else:\n",
        " print(to +\" is\"+\" Consonant\")\n"
      ],
      "metadata": {
        "id": "1WbQVetwgE3G",
        "colab": {
          "base_uri": "https://localhost:8080/"
        },
        "outputId": "1102fe94-8526-4217-caac-c20ebf231c81"
      },
      "execution_count": null,
      "outputs": [
        {
          "output_type": "stream",
          "name": "stdout",
          "text": [
            "enter the character\n",
            "e\n",
            "E is Vowel\n"
          ]
        }
      ]
    },
    {
      "cell_type": "code",
      "source": [
        "#write python program to extract first and last 2 character into new string.\n",
        "#example\n",
        "#input=my name is xyz\n",
        "#output=myyz\n",
        "\n",
        "user_input=\"my name is xyz\"\n",
        "string1=user_input[0:2:1]\n",
        "string2=user_input[12:14:1]\n",
        "print(string1+string2)"
      ],
      "metadata": {
        "colab": {
          "base_uri": "https://localhost:8080/"
        },
        "id": "v63Y79o7gOlv",
        "outputId": "ccbea3a4-c36a-45dc-8f90-ba9126804220"
      },
      "execution_count": null,
      "outputs": [
        {
          "output_type": "stream",
          "name": "stdout",
          "text": [
            "myyz\n"
          ]
        }
      ]
    },
    {
      "cell_type": "code",
      "source": [
        "#ask user to input non empty string\n",
        "#example non_empty_str=\"hello world\"\n",
        "#output_str=\"helo world\"\n",
        "\n",
        "non_empty_str=input(\"enter non empty string\\n\")\n",
        "to_replace=\"l\"\n",
        "non_empty_str.replace(to_replace,\"\",1)\n"
      ],
      "metadata": {
        "colab": {
          "base_uri": "https://localhost:8080/",
          "height": 70
        },
        "id": "Yy29-Tm5dXhI",
        "outputId": "b7cdc7d3-ed34-4cfd-cab5-30fa184533e6"
      },
      "execution_count": null,
      "outputs": [
        {
          "name": "stdout",
          "output_type": "stream",
          "text": [
            "enter non empty string\n",
            "hello world\n"
          ]
        },
        {
          "output_type": "execute_result",
          "data": {
            "text/plain": [
              "'helo world'"
            ],
            "application/vnd.google.colaboratory.intrinsic+json": {
              "type": "string"
            }
          },
          "metadata": {},
          "execution_count": 57
        }
      ]
    },
    {
      "cell_type": "code",
      "source": [
        "#swap two character of each string\n",
        "#example\n",
        "#        first_string=\"first\"\n",
        "#        second_string=\"second\"\n",
        "#        output_str=\"serst ficond\"\n",
        "\n",
        "first_string=input(\"enter first string\\n\")\n",
        "second_string=input(\"enter second string\\n\")\n",
        "output_str=second_string[0:2]+first_string[2:5]+\" \"+first_string[0:2]+second_string[2:6] #performing slicing operation\n",
        "print(output_str)\n",
        "\n",
        "\n",
        "\n"
      ],
      "metadata": {
        "id": "L_R9Z8dMgduo",
        "colab": {
          "base_uri": "https://localhost:8080/"
        },
        "outputId": "a5553138-a55f-4e0c-f21b-93f8504f93dd"
      },
      "execution_count": null,
      "outputs": [
        {
          "output_type": "stream",
          "name": "stdout",
          "text": [
            "enter first string\n",
            "first\n",
            "enter second string\n",
            "second\n",
            "serst ficond\n"
          ]
        }
      ]
    },
    {
      "cell_type": "markdown",
      "source": [
        "#LIST"
      ],
      "metadata": {
        "id": "bn-dFKNlq6YQ"
      }
    },
    {
      "cell_type": "code",
      "source": [
        "simple_list=[\"A\", \"B\", 1, 2]\n",
        "print(simple_list)"
      ],
      "metadata": {
        "colab": {
          "base_uri": "https://localhost:8080/"
        },
        "id": "_ep7S_BWq-ra",
        "outputId": "99b6bc76-79fb-48c7-c711-c5e57d50c10d"
      },
      "execution_count": null,
      "outputs": [
        {
          "output_type": "stream",
          "name": "stdout",
          "text": [
            "['A', 'B', 1, 2]\n"
          ]
        }
      ]
    },
    {
      "cell_type": "code",
      "source": [
        "simple_lists=[[\"A\",\"B\"],[1,2]] #nested list or 2D list\n",
        "print(simple_lists)\n",
        "print(type(simple_lists))\n"
      ],
      "metadata": {
        "colab": {
          "base_uri": "https://localhost:8080/"
        },
        "id": "mNSeHbURrVOI",
        "outputId": "abb02808-1605-42aa-e5ea-c649d6177767"
      },
      "execution_count": null,
      "outputs": [
        {
          "output_type": "stream",
          "name": "stdout",
          "text": [
            "[['A', 'B'], [1, 2]]\n",
            "<class 'list'>\n"
          ]
        }
      ]
    },
    {
      "cell_type": "code",
      "source": [
        "simple_listing=[\"binaya\", \"rahul\",\"ritesh\", [\"ribha\", \"Rabindra\"]]#accessing list item using index\n",
        "simple_listing[3][1] #extracting 'Rabindra' from list\n",
        "simple_listing[0:3] #slicing i.e extracting 3 item from lists\n",
        "\n"
      ],
      "metadata": {
        "colab": {
          "base_uri": "https://localhost:8080/"
        },
        "id": "XapEIm6GuAyl",
        "outputId": "51d83418-bc78-447b-b917-0eba7eb81c26"
      },
      "execution_count": null,
      "outputs": [
        {
          "output_type": "execute_result",
          "data": {
            "text/plain": [
              "['binaya', 'rahul', 'ritesh']"
            ]
          },
          "metadata": {},
          "execution_count": 45
        }
      ]
    },
    {
      "cell_type": "code",
      "source": [
        "#list are mutable\n",
        "mutable_list=['hi', 'i', 'am', 'mutable']\n",
        "mutable_list[0]=\"HI\"\n",
        "print(mutable_list)"
      ],
      "metadata": {
        "colab": {
          "base_uri": "https://localhost:8080/"
        },
        "id": "FazPPqzsmPz9",
        "outputId": "42937b62-3ca7-47ae-9e7a-1c51d822b112"
      },
      "execution_count": null,
      "outputs": [
        {
          "output_type": "stream",
          "name": "stdout",
          "text": [
            "['HI', 'i', 'am', 'mutable']\n"
          ]
        }
      ]
    },
    {
      "cell_type": "code",
      "source": [
        "#list method are append()->add item at end of list, insert()->insert item at specific index, remove(), pop(), reverse(), sort()\n",
        "list1=[\"A\",\"B\",\"C\"]\n",
        "list1.append(\"D\")\n",
        "print(list1)\n",
        "\n",
        "list1.insert(2,\"ram\")\n",
        "print(list1)\n",
        "\n",
        "list1.remove(\"C\")\n",
        "print(list1)\n",
        "\n",
        "list1.reverse()\n",
        "print(list1)\n",
        "\n",
        "list1.pop() #syntax lis1.pop(index)\n",
        "print(list1)\n",
        "\n",
        "list1.sort()\n",
        "print(list1)\n",
        "print(\"\\n\")\n",
        "print(\"---------List concatenation---------\")\n",
        "print(\"\\n\")\n",
        "\n",
        "\n",
        "#concat list\n",
        "list2=[1,2,3]\n",
        "list3=list1+list2\n",
        "print(list3)\n",
        "\n",
        "#join list\n",
        "input_list=[\"hello\",\"world\"]\n",
        "output_list=\" \".join(input_list)\n",
        "print(output_list)\n",
        "print(type(output_list)) #list to string conversion\n",
        "\n",
        "#list comprehension\n",
        "\n",
        "sample_list=[\"APPLE\",\"Mango\",\"BaNaNa\"]\n",
        "lower_Case_list=[item.lower() for item in sample_list]\n",
        "print(lower_Case_list)\n"
      ],
      "metadata": {
        "colab": {
          "base_uri": "https://localhost:8080/"
        },
        "id": "J_l3K-HJsgqP",
        "outputId": "1abdabe8-f363-4fa8-f5da-22da2558b24f"
      },
      "execution_count": null,
      "outputs": [
        {
          "output_type": "stream",
          "name": "stdout",
          "text": [
            "['A', 'B', 'C', 'D']\n",
            "['A', 'B', 'ram', 'C', 'D']\n",
            "['A', 'B', 'ram', 'D']\n",
            "['D', 'ram', 'B', 'A']\n",
            "['D', 'ram', 'B']\n",
            "['B', 'D', 'ram']\n",
            "\n",
            "\n",
            "---------List concatenation---------\n",
            "\n",
            "\n",
            "['B', 'D', 'ram', 1, 2, 3]\n",
            "hello world\n",
            "<class 'str'>\n",
            "['apple', 'mango', 'banana']\n"
          ]
        }
      ]
    },
    {
      "cell_type": "code",
      "source": [
        "#program to sum all the items in a lists\n",
        "simple_list=[1,2,3,4,5,4]\n",
        "total=0\n",
        "\n",
        "for sum in simple_list:\n",
        "      total=sum+total\n",
        "print(\"the sum of item in list is\",total)\n",
        "\n"
      ],
      "metadata": {
        "colab": {
          "base_uri": "https://localhost:8080/"
        },
        "id": "C_SoN46qo80v",
        "outputId": "c8739b79-5f8c-4782-df65-83ed037fcc2d"
      },
      "execution_count": null,
      "outputs": [
        {
          "output_type": "stream",
          "name": "stdout",
          "text": [
            "the sum of item in list is 19\n"
          ]
        }
      ]
    },
    {
      "cell_type": "code",
      "source": [
        "#program to get largest number from list\n",
        "sample_list=[10,20,2000,100,40]\n",
        "print(\"the largest number is\",max(sample_list))"
      ],
      "metadata": {
        "colab": {
          "base_uri": "https://localhost:8080/"
        },
        "id": "Qu1i8ZPTuA64",
        "outputId": "793fd03b-0c96-4c55-f123-fa12c7aa18a5"
      },
      "execution_count": null,
      "outputs": [
        {
          "output_type": "stream",
          "name": "stdout",
          "text": [
            "the largest number is 2000\n"
          ]
        }
      ]
    },
    {
      "cell_type": "code",
      "source": [
        "#program to get smallest number from list\n",
        "sample_list=[-1,0,1,2]\n",
        "print(\"the smallest number is\",min(sample_list))"
      ],
      "metadata": {
        "colab": {
          "base_uri": "https://localhost:8080/"
        },
        "id": "JJN55qJWu_mM",
        "outputId": "5f2288eb-10ee-4b81-ae5d-c6e8cf9d2b86"
      },
      "execution_count": null,
      "outputs": [
        {
          "output_type": "stream",
          "name": "stdout",
          "text": [
            "the smallest number is -1\n"
          ]
        }
      ]
    },
    {
      "cell_type": "code",
      "source": [
        "#python program to insert a given string at the beginning of all items in a list\n",
        "sample_list=['1','2','3','4']\n",
        "str_to_insert=\"emp\"\n",
        "result = [str_to_insert + item for item in sample_list] #list comprehension\n",
        "print(result)\n",
        "\n",
        "\n",
        "\n",
        "\n",
        "\n"
      ],
      "metadata": {
        "colab": {
          "base_uri": "https://localhost:8080/"
        },
        "id": "xNtox2G6vSwh",
        "outputId": "2e8c3b5d-319f-4fca-a2a9-b18594fd2926"
      },
      "execution_count": null,
      "outputs": [
        {
          "output_type": "stream",
          "name": "stdout",
          "text": [
            "['emp1', 'emp2', 'emp3', 'emp4']\n"
          ]
        }
      ]
    },
    {
      "cell_type": "code",
      "source": [
        "#python program to check list is empty or not\n",
        "\n",
        "my_list = []\n",
        "if my_list==[]:\n",
        " print(\"list is empty\")\n",
        "else:\n",
        " print(\"list is not empty\")\n"
      ],
      "metadata": {
        "colab": {
          "base_uri": "https://localhost:8080/"
        },
        "id": "ocbzZqiu6Btc",
        "outputId": "531c7bea-55f1-41d7-a5fa-c397dffcc91a"
      },
      "execution_count": null,
      "outputs": [
        {
          "output_type": "stream",
          "name": "stdout",
          "text": [
            "list is empty\n"
          ]
        }
      ]
    },
    {
      "cell_type": "code",
      "source": [
        "#count number of string where string length is 2 or more and first and last character are same from given list of string\n",
        "\n",
        "sample_list=['abc', 'xyz','aba','1221']\n",
        "try_list=[]\n",
        "try_list=sample_list[idx]\n",
        "count=0\n",
        "for idx in range(len(sample_list)):\n"
      ],
      "metadata": {
        "id": "kfXjYuAK7QYG",
        "colab": {
          "base_uri": "https://localhost:8080/",
          "height": 130
        },
        "outputId": "fb20914f-81d1-44c0-a396-8caeb4dc5c10"
      },
      "execution_count": null,
      "outputs": [
        {
          "output_type": "error",
          "ename": "SyntaxError",
          "evalue": "ignored",
          "traceback": [
            "\u001b[0;36m  File \u001b[0;32m\"<ipython-input-1-4cc8ada541d3>\"\u001b[0;36m, line \u001b[0;32m7\u001b[0m\n\u001b[0;31m    for idx in range(len(sample_list)):\u001b[0m\n\u001b[0m                                       ^\u001b[0m\n\u001b[0;31mSyntaxError\u001b[0m\u001b[0;31m:\u001b[0m incomplete input\n"
          ]
        }
      ]
    },
    {
      "cell_type": "code",
      "source": [
        "#display longest word with its length\n",
        "\n",
        " sample_list=['mango','banana','kiwi','apple','grape']\n",
        "for idx in range(len(sample_list)):\n",
        "  a=[]\n",
        "  a=len(sample_list[idx])\n",
        "  print(\"length=\",(a))\n",
        "  print(sample_list[idx])\n",
        "\n"
      ],
      "metadata": {
        "colab": {
          "base_uri": "https://localhost:8080/"
        },
        "id": "XJ17lLq4DU1c",
        "outputId": "6e75b33f-b404-4705-920a-04cae6359240"
      },
      "execution_count": null,
      "outputs": [
        {
          "output_type": "stream",
          "name": "stdout",
          "text": [
            "length= 5\n",
            "mango\n",
            "length= 6\n",
            "banana\n",
            "length= 4\n",
            "kiwi\n",
            "length= 5\n",
            "apple\n",
            "length= 5\n",
            "grape\n"
          ]
        }
      ]
    },
    {
      "cell_type": "markdown",
      "source": [
        "#Tuple"
      ],
      "metadata": {
        "id": "IPIFPV6M9iLp"
      }
    },
    {
      "cell_type": "code",
      "source": [
        "#create empty tuple\n",
        "a=(1,'item2',3)\n",
        "print(type(a))\n",
        "print(a)\n",
        "print(len(a))\n",
        "\n",
        "b=((1,2),'item2',(3,4)) #nested tuple\n",
        "print(b)"
      ],
      "metadata": {
        "colab": {
          "base_uri": "https://localhost:8080/"
        },
        "id": "sucejtWU9oNR",
        "outputId": "f2bbb6a7-d32c-4b58-ef14-ab77b7e43f41"
      },
      "execution_count": null,
      "outputs": [
        {
          "output_type": "stream",
          "name": "stdout",
          "text": [
            "<class 'tuple'>\n",
            "(1, 'item2', 3)\n",
            "3\n",
            "((1, 2), 'item2', (3, 4))\n"
          ]
        }
      ]
    },
    {
      "cell_type": "code",
      "source": [
        "#string converted into list\n",
        "sample_str=\"i am creating tuple\"\n",
        "list_from_str=sample_str.split(\" \") #here string converted into list\n",
        "tuple_from_lst=tuple(list_from_str) #list converted into tuple\n",
        "print(tuple_from_lst)\n"
      ],
      "metadata": {
        "colab": {
          "base_uri": "https://localhost:8080/"
        },
        "id": "KfXQOxEn_du1",
        "outputId": "82c30093-21e0-4057-f2a9-2b8c72af1d80"
      },
      "execution_count": null,
      "outputs": [
        {
          "output_type": "stream",
          "name": "stdout",
          "text": [
            "('i', 'am', 'creating', 'tuple')\n"
          ]
        }
      ]
    },
    {
      "cell_type": "code",
      "source": [
        "shopping_list=[] #asking user to insert item in list\n",
        "list_length=4\n",
        "for idx in range(list_length):\n",
        "  item=input(\"enter item\\n\")\n",
        "  shopping_list.append(item)\n",
        "print(shopping_list)\n",
        "\n",
        "\n"
      ],
      "metadata": {
        "colab": {
          "base_uri": "https://localhost:8080/"
        },
        "id": "iDwYrsPOiGAC",
        "outputId": "0f71c026-8952-4357-c055-ff2b4e231912"
      },
      "execution_count": null,
      "outputs": [
        {
          "output_type": "stream",
          "name": "stdout",
          "text": [
            "enter item\n",
            "ram\n",
            "enter item\n",
            "shyam\n",
            "enter item\n",
            "gita\n",
            "enter item\n",
            "1\n",
            "['ram', 'shyam', 'gita', '1']\n"
          ]
        }
      ]
    },
    {
      "cell_type": "code",
      "source": [
        "sample_lst=('a','b','c','d')\n",
        "print(sample_lst[-1])\n",
        "print(sample_lst[0:3])#slicing\n",
        "print(sample_lst[0::2])"
      ],
      "metadata": {
        "colab": {
          "base_uri": "https://localhost:8080/"
        },
        "id": "qFOz2TewA06p",
        "outputId": "123aa107-a506-4835-fe38-fd90bd1a0d6b"
      },
      "execution_count": null,
      "outputs": [
        {
          "output_type": "stream",
          "name": "stdout",
          "text": [
            "d\n",
            "('a', 'b', 'c')\n",
            "('a', 'c')\n"
          ]
        }
      ]
    },
    {
      "cell_type": "code",
      "source": [
        "#reverse tuple\n",
        "sample_lst=('a','b','c','d')\n",
        "print(sample_lst[-1:-5:-1])"
      ],
      "metadata": {
        "colab": {
          "base_uri": "https://localhost:8080/"
        },
        "id": "pRY0Xj_KDp7f",
        "outputId": "debcafa3-c33f-488e-f010-7978aca96da1"
      },
      "execution_count": null,
      "outputs": [
        {
          "output_type": "stream",
          "name": "stdout",
          "text": [
            "('d', 'c', 'b', 'a')\n"
          ]
        }
      ]
    },
    {
      "cell_type": "code",
      "source": [
        "#method in tuple are count() and index()\n",
        "tuple_demo=(1,2,2,2,3,4,4,2,5,6,7)\n",
        "tuple_demo.count(4)\n",
        "tuple_demo.index(4)#return index of value\n"
      ],
      "metadata": {
        "colab": {
          "base_uri": "https://localhost:8080/"
        },
        "id": "46m56LadGq3z",
        "outputId": "11e1b85e-7a31-4bc5-cf29-150a0a3eb2e0"
      },
      "execution_count": null,
      "outputs": [
        {
          "output_type": "execute_result",
          "data": {
            "text/plain": [
              "5"
            ]
          },
          "metadata": {},
          "execution_count": 62
        }
      ]
    },
    {
      "cell_type": "code",
      "source": [
        "tu_try=(\"ram\",\"shyam\",\"hari\",\"kishna\")\n",
        "a,b,c,d=tu_try #assigning tuple to variable\n",
        "print(a)\n",
        "print(b)\n",
        "print(c)\n",
        "print(d)\n",
        "print(\"--------------\")\n",
        "for idx, item in enumerate(tu_try):#printing index and value\n",
        "  print(idx)\n",
        "  print(item)"
      ],
      "metadata": {
        "colab": {
          "base_uri": "https://localhost:8080/"
        },
        "id": "NhQ4R_bsLV2y",
        "outputId": "32b33b87-6dfd-47b0-f28f-346946179db6"
      },
      "execution_count": null,
      "outputs": [
        {
          "output_type": "stream",
          "name": "stdout",
          "text": [
            "ram\n",
            "shyam\n",
            "hari\n",
            "kishna\n",
            "--------------\n",
            "0\n",
            "ram\n",
            "1\n",
            "shyam\n",
            "2\n",
            "hari\n",
            "3\n",
            "kishna\n"
          ]
        }
      ]
    },
    {
      "cell_type": "markdown",
      "source": [
        "##Dictionary"
      ],
      "metadata": {
        "id": "saXHQySEU5nz"
      }
    },
    {
      "cell_type": "code",
      "source": [
        "#creating dictionary\n",
        "empt_dict={}\n",
        "print(type(empt_dict))\n",
        "\n",
        "simple_dict={\n",
        "    \"mango\":2,\n",
        "    \"orange\":3\n",
        "    }\n",
        "\n",
        "print(simple_dict)\n",
        "print(simple_dict[\"mango\"]) #accessing value from dictionary\n",
        "print(\"------------------\")\n",
        "#nested dictionary\n",
        "nested_dict={\n",
        "    \"fruits\":{\"mango\":2,\"apple\":10},\n",
        "    \"drinks\":{\"coke\":2,\"juice\":20}\n",
        "}\n",
        "print(\"----------------------\")\n",
        "print(nested_dict)\n",
        "print(nested_dict[\"fruits\"])\n",
        "print(\"----accessing 2 value from key coke---------\")\n",
        "print(nested_dict[\"drinks\"][\"coke\"]) #accessing 2 value from key coke"
      ],
      "metadata": {
        "colab": {
          "base_uri": "https://localhost:8080/"
        },
        "id": "fajORGSXHfBr",
        "outputId": "ef740571-e1e1-4ee1-851b-285fdf11a5a4"
      },
      "execution_count": null,
      "outputs": [
        {
          "output_type": "stream",
          "name": "stdout",
          "text": [
            "<class 'dict'>\n",
            "{'mango': 2, 'orange': 3}\n",
            "2\n",
            "------------------\n",
            "----------------------\n",
            "{'fruits': {'mango': 2, 'apple': 10}, 'drinks': {'coke': 2, 'juice': 20}}\n",
            "{'mango': 2, 'apple': 10}\n",
            "----accessing 2 value from key coke---------\n",
            "2\n"
          ]
        }
      ]
    },
    {
      "cell_type": "code",
      "source": [
        "simple_dict={\n",
        "    \"mango\":10,\n",
        "    \"apple\":20\n",
        "}\n",
        "simple_dict[\"mango\"]=100 #dictionary are mutable\n",
        "print(simple_dict)\n",
        "simple_dict.update({\"mango\":30}) #update method()\n",
        "print(simple_dict)\n",
        "simple_dict.update({\"watermelon\":80})\n",
        "print(simple_dict)\n",
        "simple_dict.pop(\"watermelon\")\n",
        "print(simple_dict)\n"
      ],
      "metadata": {
        "colab": {
          "base_uri": "https://localhost:8080/"
        },
        "id": "F-cR95jiIcUd",
        "outputId": "4b99db45-1ea6-424c-b1a7-e28fe2cf7acd"
      },
      "execution_count": null,
      "outputs": [
        {
          "output_type": "stream",
          "name": "stdout",
          "text": [
            "{'mango': 100, 'apple': 20}\n",
            "{'mango': 30, 'apple': 20}\n",
            "{'mango': 30, 'apple': 20, 'watermelon': 80}\n",
            "{'mango': 30, 'apple': 20}\n"
          ]
        }
      ]
    },
    {
      "cell_type": "code",
      "source": [
        "list(simple_dict.items()) #key value pair"
      ],
      "metadata": {
        "colab": {
          "base_uri": "https://localhost:8080/"
        },
        "id": "s9vgIQHIPvFE",
        "outputId": "f1d92b6f-b313-4ee3-f359-a704633d3fab"
      },
      "execution_count": null,
      "outputs": [
        {
          "output_type": "execute_result",
          "data": {
            "text/plain": [
              "[('mango', 100), ('apple', 20)]"
            ]
          },
          "metadata": {},
          "execution_count": 27
        }
      ]
    },
    {
      "cell_type": "code",
      "source": [
        "#print all keyname in dictionary one by one\n",
        "for key_names in simple_dict:\n",
        "  print(key_names)\n",
        "  print(\"---------\")\n"
      ],
      "metadata": {
        "colab": {
          "base_uri": "https://localhost:8080/"
        },
        "id": "VrBHilVASJhd",
        "outputId": "2a2a6d64-2e31-4964-c4e7-032e67a0c179"
      },
      "execution_count": null,
      "outputs": [
        {
          "output_type": "stream",
          "name": "stdout",
          "text": [
            "mango\n",
            "---------\n",
            "apple\n",
            "---------\n"
          ]
        }
      ]
    },
    {
      "cell_type": "code",
      "source": [
        "for value in simple_dict:  #accesing value using loop\n",
        "    print(simple_dict[value])"
      ],
      "metadata": {
        "colab": {
          "base_uri": "https://localhost:8080/"
        },
        "id": "9rhqmjLpTyIT",
        "outputId": "139a2fca-4172-4ea2-abe3-83c6433dac0f"
      },
      "execution_count": null,
      "outputs": [
        {
          "output_type": "stream",
          "name": "stdout",
          "text": [
            "30\n",
            "20\n"
          ]
        }
      ]
    },
    {
      "cell_type": "code",
      "source": [
        "for key,value in simple_dict.items(): #key value in loop\n",
        "  print(f\"key={key}\")\n",
        "  print(f\"value={value}\")\n",
        "  print(\"---------\")"
      ],
      "metadata": {
        "colab": {
          "base_uri": "https://localhost:8080/"
        },
        "id": "nku9p2BdT4-s",
        "outputId": "c8d1f08e-5793-4953-d885-c46caf5e178b"
      },
      "execution_count": null,
      "outputs": [
        {
          "output_type": "stream",
          "name": "stdout",
          "text": [
            "key=mango\n",
            "value=30\n",
            "---------\n",
            "key=apple\n",
            "value=20\n",
            "---------\n"
          ]
        }
      ]
    },
    {
      "cell_type": "code",
      "source": [
        "sample_list=[10,20,30,40]\n",
        "print(sample_list)\n",
        "\n",
        "sample_dict={idx:item for idx, item in enumerate(sample_list)} #dictinary comprehension and converting list to dictionary\n",
        "print(sample_dict)"
      ],
      "metadata": {
        "colab": {
          "base_uri": "https://localhost:8080/"
        },
        "id": "8oAD1FvXU2yI",
        "outputId": "79ad19c9-bfcb-43df-8bbe-58367ea8893b"
      },
      "execution_count": null,
      "outputs": [
        {
          "output_type": "stream",
          "name": "stdout",
          "text": [
            "[10, 20, 30, 40]\n",
            "{0: 10, 1: 20, 2: 30, 3: 40}\n"
          ]
        }
      ]
    },
    {
      "cell_type": "markdown",
      "source": [
        "SETS"
      ],
      "metadata": {
        "id": "3GXqacWTXCtA"
      }
    },
    {
      "cell_type": "code",
      "source": [
        "#create empty set\n",
        "empt_set=set()\n",
        "print(type(empt_set))"
      ],
      "metadata": {
        "colab": {
          "base_uri": "https://localhost:8080/"
        },
        "id": "R1rea72zXGx4",
        "outputId": "d44fe6d2-9887-4912-e567-cef51027c95e"
      },
      "execution_count": null,
      "outputs": [
        {
          "output_type": "stream",
          "name": "stdout",
          "text": [
            "<class 'set'>\n"
          ]
        }
      ]
    },
    {
      "cell_type": "code",
      "source": [
        "simple_Set={\"item1\",10,\"item2\",\"item31\"}\n",
        "print(simple_Set)"
      ],
      "metadata": {
        "colab": {
          "base_uri": "https://localhost:8080/"
        },
        "id": "-UteuSq1Xb1Z",
        "outputId": "05a74556-5e9b-4fb7-d335-e1aca75d556b"
      },
      "execution_count": null,
      "outputs": [
        {
          "output_type": "stream",
          "name": "stdout",
          "text": [
            "{'item2', 10, 'item31', 'item1'}\n"
          ]
        }
      ]
    },
    {
      "cell_type": "code",
      "source": [
        "#union in set\n",
        "x={1,2,3,4,5}\n",
        "y={6,7,8}\n",
        "z=x.union(y)\n",
        "print(z)"
      ],
      "metadata": {
        "colab": {
          "base_uri": "https://localhost:8080/"
        },
        "id": "CKA-C8gaNsl_",
        "outputId": "8ea3b31c-2dbd-4cd7-ba96-fa6a678997b9"
      },
      "execution_count": null,
      "outputs": [
        {
          "output_type": "stream",
          "name": "stdout",
          "text": [
            "{1, 2, 3, 4, 5, 6, 7, 8}\n"
          ]
        }
      ]
    },
    {
      "cell_type": "code",
      "source": [
        "#intersection in set\n",
        "x={1,2,3,4,5}\n",
        "y={1,2,4}\n",
        "z=x.intersection(y)\n",
        "print(z)"
      ],
      "metadata": {
        "colab": {
          "base_uri": "https://localhost:8080/"
        },
        "id": "5VBrF6sFOxP0",
        "outputId": "7a92dd05-439c-4c6e-f7b0-4d2d4f77bd52"
      },
      "execution_count": null,
      "outputs": [
        {
          "output_type": "stream",
          "name": "stdout",
          "text": [
            "{1, 2, 4}\n"
          ]
        }
      ]
    },
    {
      "cell_type": "code",
      "source": [
        "#diferences  in set\n",
        "x={1,2,3,4,5}\n",
        "y={1,2,4}\n",
        "z=x.difference(y)\n",
        "print(z)\n"
      ],
      "metadata": {
        "colab": {
          "base_uri": "https://localhost:8080/"
        },
        "id": "emM_it1zPAL-",
        "outputId": "fc23b8ad-dae8-45b1-f178-16054152706e"
      },
      "execution_count": null,
      "outputs": [
        {
          "output_type": "stream",
          "name": "stdout",
          "text": [
            "{3, 5}\n"
          ]
        }
      ]
    }
  ]
}