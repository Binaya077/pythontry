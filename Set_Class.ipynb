{
  "nbformat": 4,
  "nbformat_minor": 0,
  "metadata": {
    "colab": {
      "provenance": [],
      "include_colab_link": true
    },
    "kernelspec": {
      "name": "python3",
      "display_name": "Python 3"
    },
    "language_info": {
      "name": "python"
    }
  },
  "cells": [
    {
      "cell_type": "markdown",
      "metadata": {
        "id": "view-in-github",
        "colab_type": "text"
      },
      "source": [
        "<a href=\"https://colab.research.google.com/github/Binaya077/pythontry/blob/test/Set_Class.ipynb\" target=\"_parent\"><img src=\"https://colab.research.google.com/assets/colab-badge.svg\" alt=\"Open In Colab\"/></a>"
      ]
    },
    {
      "cell_type": "markdown",
      "source": [
        "## Set\n",
        "- A set is a collection, which is unordered, Unchangeable, and Duplicates are not allowed.\n",
        "  - `Unordered:`\n",
        "    - It means that the items in a set do not have defined order. Concepts of Indexing is not used.\n",
        "  - `Unchangeable:`\n",
        "    - Once set is created, you cannot change the items, but you can remove items and add new items i.e. **sets are mutable**.\n",
        "  - Unidexed:\n",
        "    - `Duplicates are not allowed:`\n",
        "      - Sets cannot have two items with same value.\n",
        "      - _`True and 1 are considered as same in set`_\n",
        "\n",
        "- Sets are written with curly **{}** brackets. Python will automatically remove duplicates.\n",
        "  - _`True and 1 are considered as same in set`_\n",
        "  - _`False and 0 are considered as same in set`_\n",
        "\n",
        "- We only work with simple sets. There is no concepts of nested sets in python.\n",
        "  - We can achieve nested sets like concepts using frozenset (which is out of scope of this class).\n",
        "  - Example: `simple_set = {'item1', True, False}`\n",
        "\n",
        "- In this lecture we'll cover:\n",
        "  - Creating Sets\n",
        "  - Sets methods / Operations\n",
        "  - Sets are mutable\n",
        "  - Loop Sets\n",
        "  - Set Comprehension"
      ],
      "metadata": {
        "id": "GmOMmhkZvVoe"
      }
    },
    {
      "cell_type": "markdown",
      "source": [
        "## 1. Creating Sets\n",
        "- To create a Set, type the set items within curly brackets **{ }**, separated by commas.\n",
        "- Example: {\"item1\", 2, 'item3', 4}"
      ],
      "metadata": {
        "id": "JsEiswP-BAQX"
      }
    },
    {
      "cell_type": "code",
      "source": [
        "# create empty set\n",
        "# use: set()\n",
        "\n",
        "empt_set = set()\n"
      ],
      "metadata": {
        "id": "Sje6eyg_Cvt_",
        "colab": {
          "base_uri": "https://localhost:8080/"
        },
        "outputId": "51474f00-ab53-4c60-9b72-f020c0606b75"
      },
      "execution_count": null,
      "outputs": [
        {
          "output_type": "stream",
          "name": "stdout",
          "text": [
            "<class 'set'>\n"
          ]
        }
      ]
    },
    {
      "cell_type": "code",
      "source": [
        "# display type\n",
        "print(type(empt_set))\n"
      ],
      "metadata": {
        "id": "MN64vCIgC13R",
        "colab": {
          "base_uri": "https://localhost:8080/"
        },
        "outputId": "57d36d69-6996-46ff-877d-0f908e1f5101"
      },
      "execution_count": null,
      "outputs": [
        {
          "output_type": "stream",
          "name": "stdout",
          "text": [
            "<class 'set'>\n"
          ]
        }
      ]
    },
    {
      "cell_type": "code",
      "execution_count": null,
      "metadata": {
        "id": "uF5arSxwuyfm",
        "colab": {
          "base_uri": "https://localhost:8080/"
        },
        "outputId": "84683fee-ed5e-4b41-9fc8-de24741f6550"
      },
      "outputs": [
        {
          "output_type": "stream",
          "name": "stdout",
          "text": [
            "{'item3', True, 10, 'item1'}\n"
          ]
        }
      ],
      "source": [
        "# create simple set with mixed data types\n",
        "simple_set = {'item1', 10, 'item3', True}\n",
        "print(simple_set)"
      ]
    },
    {
      "cell_type": "code",
      "source": [
        "# display type\n",
        "print(type(simple_set))"
      ],
      "metadata": {
        "id": "YMTKLBcpAH0W",
        "colab": {
          "base_uri": "https://localhost:8080/"
        },
        "outputId": "230ed513-43cc-4def-ec6c-d1103d78e8c6"
      },
      "execution_count": null,
      "outputs": [
        {
          "output_type": "stream",
          "name": "stdout",
          "text": [
            "<class 'set'>\n"
          ]
        }
      ]
    },
    {
      "cell_type": "code",
      "source": [
        "# display length of set\n",
        "# Hint: len(set)\n",
        "\n",
        "len(simple_set)"
      ],
      "metadata": {
        "id": "7hL7GQ86AJSM",
        "colab": {
          "base_uri": "https://localhost:8080/"
        },
        "outputId": "db9c374d-11a3-485f-8f3c-e785bd02dd2a"
      },
      "execution_count": null,
      "outputs": [
        {
          "output_type": "execute_result",
          "data": {
            "text/plain": [
              "4"
            ]
          },
          "metadata": {},
          "execution_count": 8
        }
      ]
    },
    {
      "cell_type": "markdown",
      "source": [
        "`Since Sets are unordered, there is no concepts of Set Indexing and Slicing`"
      ],
      "metadata": {
        "id": "pO1khB5yA8DC"
      }
    },
    {
      "cell_type": "markdown",
      "source": [
        "## 2. Sets Methods/Operations.\n",
        "- Most common set methods/operations are:\n",
        "  - `add(): ` Method to add a new element to a set.\n",
        "  - `remove():` Method to remove item from a set.\n",
        "  - `pop(): ` Method to remove item from a set and returns removed item\n",
        "  - `union(): ` Method that return a set containing union of sets..\n",
        "  - `intersection(): ` Method that return a set that is intersection of 2 other sets.\n",
        "  - `difference(): ` Method that return a set containing difference between two or more sets."
      ],
      "metadata": {
        "id": "ktwR3hLrCkJ-"
      }
    },
    {
      "cell_type": "markdown",
      "source": [
        "**add()**  \n",
        "- Method to add a new element to a set itself\n",
        "- `Syntax: set.add(<item>)`"
      ],
      "metadata": {
        "id": "oHAsL14-KHAI"
      }
    },
    {
      "cell_type": "code",
      "source": [
        "# inialize set\n",
        "set_methods = {True, 1, 'set', 'methods', 0}\n",
        "print(set_methods)"
      ],
      "metadata": {
        "colab": {
          "base_uri": "https://localhost:8080/"
        },
        "id": "NiqAsOzTKDE_",
        "outputId": "e46dcd8e-3141-4f11-d09e-038a86b3d248"
      },
      "execution_count": null,
      "outputs": [
        {
          "output_type": "stream",
          "name": "stdout",
          "text": [
            "{0, True, 'set', 'methods'}\n"
          ]
        }
      ]
    },
    {
      "cell_type": "code",
      "source": [
        "# add item \"awesome\"\n",
        "# hint: set.add(<item>)\n",
        "\n",
        "set_methods.add(False)\n",
        "print(set_methods)"
      ],
      "metadata": {
        "id": "JTRG7AbEKDCL",
        "colab": {
          "base_uri": "https://localhost:8080/"
        },
        "outputId": "ffcc0108-d227-4175-d945-15c7e12344a3"
      },
      "execution_count": null,
      "outputs": [
        {
          "output_type": "stream",
          "name": "stdout",
          "text": [
            "{0, True, 'set', 'methods'}\n"
          ]
        }
      ]
    },
    {
      "cell_type": "markdown",
      "source": [
        "**remove()**  \n",
        "- Method to remove item from a set itself, without returning new set.\n",
        "- `Syntax: set.remove(<item>)`"
      ],
      "metadata": {
        "id": "Ob-kL370K6JE"
      }
    },
    {
      "cell_type": "code",
      "source": [
        "# remove item \"awesome\" from set\n",
        "# hint: set.remove(<awesome>)\n"
      ],
      "metadata": {
        "id": "Ft24hiFLKC_l"
      },
      "execution_count": null,
      "outputs": []
    },
    {
      "cell_type": "markdown",
      "source": [
        "`Note: If item name is not present in Set, it will raise an error/exception.`\n"
      ],
      "metadata": {
        "id": "8szKRgGbLZ-r"
      }
    },
    {
      "cell_type": "markdown",
      "source": [
        "**pop()**\n",
        "- You can also use the pop() method to remove an item, but this method will remove a random item, so you cannot be sure what item that gets removed.\n",
        "- Generally, it will remove from starting item in a set.\n",
        "- It returns a item that is removed from a set.\n",
        "- `syntax: removed_item = set.pop()`"
      ],
      "metadata": {
        "id": "adlX-XAKLrHH"
      }
    },
    {
      "cell_type": "code",
      "source": [
        "# remove set item using \"pop()\"\n",
        "# hint: removed_item = set.pop()\n"
      ],
      "metadata": {
        "id": "zJk87bC9KC0z"
      },
      "execution_count": null,
      "outputs": []
    },
    {
      "cell_type": "markdown",
      "source": [
        "**union()**\n",
        "- Method that return a set containing union of sets.\n",
        "- The union of two sets A and B include all the elements of set A and B. No duplicates in final obtained set.\n",
        "- `syntax:`\n",
        "  1. set_union = set1.union(set2)\n",
        "  2. set_union = set1 | set2\n"
      ],
      "metadata": {
        "id": "xTxKcoF8MrK7"
      }
    },
    {
      "cell_type": "code",
      "source": [
        "## create two sets\n",
        "set1 = {1, 2, 3, 4, 5}\n",
        "set2= {4, 5, 6, 7, 8}\n",
        "\n",
        "print(set1)\n",
        "print(set2)"
      ],
      "metadata": {
        "colab": {
          "base_uri": "https://localhost:8080/"
        },
        "id": "DEdcazwIOxdO",
        "outputId": "52773fc7-5385-4d57-892e-fc0eb82d3600"
      },
      "execution_count": null,
      "outputs": [
        {
          "output_type": "stream",
          "name": "stdout",
          "text": [
            "{1, 2, 3, 4, 5}\n",
            "{4, 5, 6, 7, 8}\n"
          ]
        }
      ]
    },
    {
      "cell_type": "code",
      "source": [
        "# union of set using union() method\n",
        "# hint: set_union = set1.union(set2)\n",
        "\n",
        "set_union = None\n",
        "\n",
        "print(f\"Union of set1 and set2 is: {set_union}\")\n"
      ],
      "metadata": {
        "colab": {
          "base_uri": "https://localhost:8080/"
        },
        "id": "uimcdFr2OxaZ",
        "outputId": "441d18b9-5551-4688-83a5-d4a119e7a944"
      },
      "execution_count": null,
      "outputs": [
        {
          "output_type": "stream",
          "name": "stdout",
          "text": [
            "Union of set1 and set2 is: None\n"
          ]
        }
      ]
    },
    {
      "cell_type": "code",
      "source": [
        "# union of set using (|) operator\n",
        "# hint: set_union_pipe = set1 |set2\n",
        "\n"
      ],
      "metadata": {
        "id": "NjImWpKAOxWd"
      },
      "execution_count": null,
      "outputs": []
    },
    {
      "cell_type": "markdown",
      "source": [
        "**intersection()**\n",
        "- Method that return a set containing intesection of sets.\n",
        "- The intersection of two sets A and B include the common elements between set A and B. No duplicates in final obtained set.\n",
        "\n",
        "- `syntax:`\n",
        "  1. set_common = set1.intersection(set2)\n",
        "  2. set_union = set1 & set2"
      ],
      "metadata": {
        "id": "74YET12AR3oh"
      }
    },
    {
      "cell_type": "code",
      "source": [
        "# intersection of set using intersection() method\n",
        "# hint: set_common = set1.intersection(set2)\n",
        "\n"
      ],
      "metadata": {
        "id": "IHB5efXvSmGi"
      },
      "execution_count": null,
      "outputs": []
    },
    {
      "cell_type": "code",
      "source": [
        "# intersection of set using (&) operator\n",
        "# hint: set_common2 = set1 & set2\n",
        "\n"
      ],
      "metadata": {
        "id": "4XaJBiH8Sl6K"
      },
      "execution_count": null,
      "outputs": []
    },
    {
      "cell_type": "markdown",
      "source": [
        "**difference():**\n",
        "- Method that return a set containing difference between two or more sets.\n",
        "- The difference between two sets A and B denoted by `A-B`include elements of set A that are not present on set B.\n",
        "- `syntax: set_diff = set1.difference(set2)`"
      ],
      "metadata": {
        "id": "Z9SBdMwlTbcW"
      }
    },
    {
      "cell_type": "code",
      "source": [
        "# difference of set using difference() method\n",
        "# hint: set_diff = set1.difference(set2)\n",
        "# or\n",
        "# hint: set_diff = set1 - set2\n"
      ],
      "metadata": {
        "id": "jerPC--eSluE"
      },
      "execution_count": null,
      "outputs": []
    },
    {
      "cell_type": "markdown",
      "source": [
        "**Different Set Methods:**  \n",
        "\n",
        "| Method                  | Description                                                          |\n",
        "|-------------------------|----------------------------------------------------------------------|\n",
        "| add()                   | Adds an element to the set                                            |\n",
        "| clear()                 | Removes all the elements from the set                                  |\n",
        "| copy()                  | Returns a copy of the set                                             |\n",
        "| difference()            | Returns a set containing the difference between two or more sets      |\n",
        "| difference_update()     | Removes the items in this set that are also included in another, specified set |\n",
        "| discard()               | Remove the specified item                                             |\n",
        "| intersection()          | Returns a set, that is the intersection of two other sets             |\n",
        "| intersection_update()   | Removes the items in this set that are not present in other, specified set(s) |\n",
        "| isdisjoint()            | Returns whether two sets have an intersection or not                  |\n",
        "| issubset()              | Returns whether another set contains this set or not                  |\n",
        "| issuperset()            | Returns whether this set contains another set or not                  |\n",
        "| pop()                   | Removes an element from the set                                       |\n",
        "| remove()                | Removes the specified element                                         |\n",
        "| symmetric_difference()  | Returns a set with the symmetric differences of two sets              |\n",
        "| symmetric_difference_update() | Inserts the symmetric differences from this set and another           |\n",
        "| union()                 | Return a set containing the union of sets                             |\n",
        "| update()                | Update the set with the union of this set and others                  |\n"
      ],
      "metadata": {
        "id": "2ikdrVm2Pshw"
      }
    },
    {
      "cell_type": "markdown",
      "source": [
        "## 3 .Sets are Mutable\n",
        "- Like Lists, Sets are mutable.\n",
        "  - We can add new items to set.\n",
        "  - We can delete existing items in set.\n",
        "  - However, we cannot change existing item to another item in a set.\n",
        "\n"
      ],
      "metadata": {
        "id": "2Xi4lLsHBNfB"
      }
    },
    {
      "cell_type": "code",
      "source": [
        "# Given Set, verify Sets are mutable\n",
        "# Hint: .add(item)\n",
        "\n",
        "sets_mutable = None"
      ],
      "metadata": {
        "id": "L0EwJLuUAnPC"
      },
      "execution_count": null,
      "outputs": []
    },
    {
      "cell_type": "markdown",
      "source": [
        "## 5 Loop Sets.\n",
        "\n",
        "- Similar to Strings, List, Tuple, you can also loop through list items using a **for** loop.\n",
        "\n",
        "`Q. Initialize Set and print set items one by one using for loop.`"
      ],
      "metadata": {
        "id": "rCwJNVjbWsNN"
      }
    },
    {
      "cell_type": "code",
      "source": [
        "# write your program\n"
      ],
      "metadata": {
        "id": "dnHXmm3RWkF9"
      },
      "execution_count": null,
      "outputs": []
    },
    {
      "cell_type": "markdown",
      "source": [
        "## 6. Set Comprehension\n",
        "- As seen in List chapter, we can also use concept of List comprehension in set as well.\n",
        "\n",
        "`Q. Given List = ['item1', 1, 2, 'item4'], create Set using list items using Set comprehension.`\n",
        "\n",
        "_output: {'item4', 1, 2, 'item1'}_"
      ],
      "metadata": {
        "id": "0kLQt4glaWZj"
      }
    },
    {
      "cell_type": "code",
      "source": [
        "# Initialize list\n",
        "# create set using set comprehension\n",
        "\n",
        "sample_list = ['item1', 1, 2, 'item4']\n"
      ],
      "metadata": {
        "id": "rGXA2T-gaRvB"
      },
      "execution_count": null,
      "outputs": []
    },
    {
      "cell_type": "code",
      "source": [],
      "metadata": {
        "id": "Jxt7JMENcA76"
      },
      "execution_count": null,
      "outputs": []
    },
    {
      "cell_type": "code",
      "source": [],
      "metadata": {
        "id": "H-HB0RzTcAyD"
      },
      "execution_count": null,
      "outputs": []
    },
    {
      "cell_type": "markdown",
      "source": [
        "**Q. Write a python program to sort Set items in ascending order.**\n",
        "\n",
        "`Hint: sorted(<iterable>, reverse=False`\n"
      ],
      "metadata": {
        "id": "O4tq4QdEeq_T"
      }
    },
    {
      "cell_type": "markdown",
      "source": [
        "                          \n",
        "\n",
        "<hr>\n",
        "<h2>Congratulations, you have completed your hands-on lab in Python Set.\n",
        "<hr>\n",
        "\n"
      ],
      "metadata": {
        "id": "M5T037lfbUws"
      }
    }
  ]
}