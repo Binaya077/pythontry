{
  "cells": [
    {
      "cell_type": "markdown",
      "metadata": {
        "id": "view-in-github",
        "colab_type": "text"
      },
      "source": [
        "<a href=\"https://colab.research.google.com/github/Binaya077/pythontry/blob/test/condition_and_branching_and_function.ipynb\" target=\"_parent\"><img src=\"https://colab.research.google.com/assets/colab-badge.svg\" alt=\"Open In Colab\"/></a>"
      ]
    },
    {
      "cell_type": "code",
      "execution_count": null,
      "metadata": {
        "colab": {
          "base_uri": "https://localhost:8080/"
        },
        "id": "vNGu86CXTP__",
        "outputId": "da51bc55-8b67-4c29-fa21-41f6b83b46cc"
      },
      "outputs": [
        {
          "name": "stdout",
          "output_type": "stream",
          "text": [
            "enter number\n",
            "-5\n",
            "-5 is negative\n"
          ]
        }
      ],
      "source": [
        "number=int(input(\"enter number\\n\"))\n",
        "if number>=0:\n",
        " print(f\"{number} is positive\")\n",
        "\n",
        "else:\n",
        "  print(f\"{number} is negative\")"
      ]
    },
    {
      "cell_type": "code",
      "execution_count": null,
      "metadata": {
        "colab": {
          "base_uri": "https://localhost:8080/"
        },
        "id": "ZHu4CMX9Z_D_",
        "outputId": "4f9ba4e4-f08d-4de7-b068-af8d409b9b97"
      },
      "outputs": [
        {
          "name": "stdout",
          "output_type": "stream",
          "text": [
            "enter number\n",
            "1\n",
            "enter number\n",
            "5\n",
            "enter number\n",
            "2\n",
            "5 is maximum\n"
          ]
        }
      ],
      "source": [
        "#nested if else\n",
        "num1=int(input(\"enter number\\n\"))\n",
        "num2=int(input(\"enter number\\n\"))\n",
        "num3=int(input(\"enter number\\n\"))\n",
        "if num1>num2:\n",
        "  if num1>num3:\n",
        "    print(f\"{num1} is maximum\")\n",
        "  else:\n",
        "    print(f\"{num3} is maximum\")\n",
        "else:\n",
        "  if num2>num3:\n",
        "    print(f\"{num2} is maximum\")\n",
        "  else:\n",
        "    print(f\"{num3} is maximum\")\n",
        "\n",
        "\n",
        "\n"
      ]
    },
    {
      "cell_type": "code",
      "execution_count": null,
      "metadata": {
        "colab": {
          "base_uri": "https://localhost:8080/"
        },
        "id": "EyGj8u6Jcu1N",
        "outputId": "c5c629b6-6730-45b1-dbcf-d49b551e7e4c"
      },
      "outputs": [
        {
          "name": "stdout",
          "output_type": "stream",
          "text": [
            "b is greater\n"
          ]
        }
      ],
      "source": [
        "#maximum number using ternary operator\n",
        "a=20\n",
        "b=30\n",
        "print(\"a is greater than b\") if a>b else print(\"b is greater\")"
      ]
    },
    {
      "cell_type": "code",
      "execution_count": null,
      "metadata": {
        "id": "0Zv4v7m_fnA2"
      },
      "outputs": [],
      "source": [
        "#write program using pass keyword\n",
        "a=20\n",
        "b=50\n",
        "if a>b:\n",
        "  pass\n",
        "else:\n",
        "  pass"
      ]
    },
    {
      "cell_type": "markdown",
      "metadata": {
        "id": "GjR9Dw7Zgb0Q"
      },
      "source": [
        "#Loop"
      ]
    },
    {
      "cell_type": "code",
      "execution_count": null,
      "metadata": {
        "colab": {
          "base_uri": "https://localhost:8080/"
        },
        "id": "0DdZpPwhge89",
        "outputId": "2f430259-3151-40bc-ea74-d53196b5c647"
      },
      "outputs": [
        {
          "name": "stdout",
          "output_type": "stream",
          "text": [
            "hello world\n",
            "hello world\n",
            "hello world\n"
          ]
        }
      ],
      "source": [
        "i=0\n",
        "while i<10:\n",
        "  if(i==3):\n",
        "   break\n",
        "  print(\"hello world\")\n",
        "  i=i+1"
      ]
    },
    {
      "cell_type": "code",
      "execution_count": null,
      "metadata": {
        "colab": {
          "base_uri": "https://localhost:8080/"
        },
        "id": "u3Uj7KKlWR8b",
        "outputId": "ea87ab08-1f8d-41fb-95d6-e817cb883157"
      },
      "outputs": [
        {
          "name": "stdout",
          "output_type": "stream",
          "text": [
            "hello world\n",
            "hello world\n",
            "hello world\n",
            "continue\n",
            "hello world\n"
          ]
        }
      ],
      "source": [
        "#using continue keyword\n",
        "i=0\n",
        "while i<5:\n",
        "  if(i==3):\n",
        "    print(\"continue\")\n",
        "    i=i+1\n",
        "    continue\n",
        "  print(\"hello world\")\n",
        "  i=i+1"
      ]
    },
    {
      "cell_type": "code",
      "execution_count": null,
      "metadata": {
        "colab": {
          "base_uri": "https://localhost:8080/"
        },
        "id": "w1tlaDiYhUi_",
        "outputId": "46ccd012-8ea1-4024-b1dc-df20beb1c55e"
      },
      "outputs": [
        {
          "name": "stdout",
          "output_type": "stream",
          "text": [
            "10 is even\n",
            "20 is even\n",
            "5 is odd\n",
            "7 is odd\n",
            "2 is even\n",
            "9 is odd\n",
            "13 is odd\n",
            "100 is even\n"
          ]
        }
      ],
      "source": [
        "#even odd in list\n",
        "sample_list=[10,20,5,7,2,9,13,100]\n",
        "for item in sample_list:\n",
        "  if(item%2==0):\n",
        "   print(item, \"is even\")\n",
        "  else:\n",
        "   print(item,\"is odd\")\n"
      ]
    },
    {
      "cell_type": "code",
      "execution_count": null,
      "metadata": {
        "colab": {
          "base_uri": "https://localhost:8080/"
        },
        "id": "nNPu61VzkPIT",
        "outputId": "beea0a12-5e92-4247-e397-247279244eca"
      },
      "outputs": [
        {
          "name": "stdout",
          "output_type": "stream",
          "text": [
            "*\n",
            "**\n",
            "***\n",
            "****\n",
            "*****\n"
          ]
        }
      ],
      "source": [
        "#loop using range function\n",
        "for i in range(5):\n",
        "\n",
        "   print(\"*\"*(i+1))\n"
      ]
    },
    {
      "cell_type": "code",
      "execution_count": null,
      "metadata": {
        "id": "SWL9NPv0oEGC"
      },
      "outputs": [],
      "source": [
        "#write a program that generates all possible combination of three number from 1 to 5 using nested for loop and prints them.\n",
        "a=[1,2,3,4,5]\n",
        "for i in range(1,6):\n",
        " for j in range(1,6):\n",
        "  for k in range(1,6):\n",
        "    print(i,j,k)\n"
      ]
    },
    {
      "cell_type": "markdown",
      "metadata": {
        "id": "P7qQgiB4pnk7"
      },
      "source": [
        "#Function"
      ]
    },
    {
      "cell_type": "code",
      "execution_count": null,
      "metadata": {
        "id": "JePYz_tMi33l"
      },
      "outputs": [],
      "source": [
        "#without return type and without parameter\n",
        "def print_greater():\n",
        "  \"\"\"\n",
        "  display greater between two number\n",
        "\n",
        "  \"\"\"\n",
        "  num1=int(input(\"enter number 1:\\n\"))\n",
        "  num2=int(input(\"enter number 2:\\n\"))\n",
        "\n",
        "  if(num1>num2):\n",
        "    print(\"num1 is greater\")\n",
        "  else:\n",
        "       print(\"num2 is greater\")\n",
        "\n",
        "print_greater()\n",
        "\n"
      ]
    },
    {
      "cell_type": "code",
      "execution_count": null,
      "metadata": {
        "colab": {
          "base_uri": "https://localhost:8080/"
        },
        "id": "tpaUtZhIp9wd",
        "outputId": "a78c5ae7-24a8-4974-a680-5cead399fc22"
      },
      "outputs": [
        {
          "name": "stdout",
          "output_type": "stream",
          "text": [
            "enter number 1:\n",
            "5\n",
            "enter number 2:\n",
            "6\n",
            "num2 is greater\n"
          ]
        }
      ],
      "source": [
        "#with parameter and without return type\n",
        "def print_greater(num1,num2): #parameter\n",
        "  \"\"\"\n",
        "  display greater between two number\n",
        "\n",
        "  \"\"\"\n",
        "\n",
        "  if(num1>num2):\n",
        "    print(\"num1 is greater\")\n",
        "  else:\n",
        "       print(\"num2 is greater\")\n",
        "\n",
        "num1=int(input(\"enter number 1:\\n\"))\n",
        "num2=int(input(\"enter number 2:\\n\"))\n",
        "print_greater(num1,num2)#argument\n",
        "\n",
        "\n"
      ]
    },
    {
      "cell_type": "code",
      "execution_count": null,
      "metadata": {
        "colab": {
          "base_uri": "https://localhost:8080/"
        },
        "id": "oWdi64G_rnAJ",
        "outputId": "cb4ea723-9a84-44bd-887e-bb384c92b019"
      },
      "outputs": [
        {
          "name": "stdout",
          "output_type": "stream",
          "text": [
            "enter number 1:\n",
            "5\n",
            "enter number 2:\n",
            "6\n",
            "num2 is greater\n"
          ]
        }
      ],
      "source": [
        "#without parameter and with return type\n",
        "def print_greater():\n",
        "\n",
        "    num1=int(input(\"enter number 1:\\n\"))\n",
        "    num2=int(input(\"enter number 2:\\n\"))\n",
        "    if(num1>num2):\n",
        "      msg=\"num1 is greater\"\n",
        "    else:\n",
        "      msg=\"num2 is greater\"\n",
        "    return msg\n",
        "\n",
        "msg=print_greater()\n",
        "print(msg)\n",
        "\n",
        "\n"
      ]
    },
    {
      "cell_type": "code",
      "execution_count": null,
      "metadata": {
        "colab": {
          "base_uri": "https://localhost:8080/"
        },
        "id": "YEY_YaoIwiEA",
        "outputId": "780a656d-b1df-4974-d1b9-a6fac4b69b50"
      },
      "outputs": [
        {
          "name": "stdout",
          "output_type": "stream",
          "text": [
            "enter number 1:\n",
            "5\n",
            "enter number 2:\n",
            "4\n",
            "num1 is greater\n"
          ]
        }
      ],
      "source": [
        "#create a function with return type and parameter\n",
        "def print_greater(num1, num2):\n",
        "\n",
        "    num1=int(input(\"enter number 1:\\n\"))\n",
        "    num2=int(input(\"enter number 2:\\n\"))\n",
        "    if(num1>num2):\n",
        "      msg=\"num1 is greater\"\n",
        "    else:\n",
        "      msg=\"num2 is greater\"\n",
        "    return msg\n",
        "\n",
        "msg=print_greater(num1,num2)\n",
        "print(msg)"
      ]
    },
    {
      "cell_type": "code",
      "execution_count": null,
      "metadata": {
        "colab": {
          "base_uri": "https://localhost:8080/"
        },
        "id": "mKT5jDlfrvjv",
        "outputId": "5ae95a45-dfc7-4afb-dec6-6cad71cdd145"
      },
      "outputs": [
        {
          "name": "stdout",
          "output_type": "stream",
          "text": [
            "(2, 3, 4, 5, 6, 7, 8, 9, 10)\n"
          ]
        }
      ],
      "source": [
        "def func(b,*a): #positional argument example here a hold first value and rest is hold by *a\n",
        "  print(a)\n",
        "\n",
        "func(1,2,3,4,5,6,7,8,9,10)"
      ]
    },
    {
      "cell_type": "code",
      "execution_count": null,
      "metadata": {
        "colab": {
          "base_uri": "https://localhost:8080/"
        },
        "id": "JiyELAXZz3d_",
        "outputId": "d4b84c3b-05cf-4892-8c5b-c74b35fac668"
      },
      "outputs": [
        {
          "data": {
            "text/plain": [
              "120"
            ]
          },
          "execution_count": 19,
          "metadata": {},
          "output_type": "execute_result"
        }
      ],
      "source": [
        "#arbitraty positional argument is *args\n",
        "def multiply(*args):\n",
        "   i=1\n",
        "   for item in args:\n",
        "     i=i*item\n",
        "   return i\n",
        "multiply(1,2,3,4,5)\n"
      ]
    },
    {
      "cell_type": "code",
      "execution_count": null,
      "metadata": {
        "colab": {
          "base_uri": "https://localhost:8080/"
        },
        "id": "THKexahM43KK",
        "outputId": "31722c54-d30f-4031-e0aa-bb3fbd6810b5"
      },
      "outputs": [
        {
          "name": "stdout",
          "output_type": "stream",
          "text": [
            "name:john\n",
            "age:30\n",
            "name:rita\n",
            "age:30\n"
          ]
        }
      ],
      "source": [
        "#arbitrary keywords arguments\n",
        "def my_func(**kwargs): #it hold key and value\n",
        "  for key, value in kwargs.items():\n",
        "    print(f\"{key}:{value}\")\n",
        "\n",
        "my_func(name=\"john\", age=30)\n",
        "my_func(name=\"rita\", age=30)"
      ]
    },
    {
      "cell_type": "markdown",
      "metadata": {
        "id": "6816yOO1MPsj"
      },
      "source": [
        "#Recursion"
      ]
    },
    {
      "cell_type": "code",
      "execution_count": null,
      "metadata": {
        "colab": {
          "base_uri": "https://localhost:8080/"
        },
        "id": "Ucm32J-IMScj",
        "outputId": "9296f5e7-56c6-414c-bfa4-54e286376a21"
      },
      "outputs": [
        {
          "name": "stdout",
          "output_type": "stream",
          "text": [
            "120\n",
            "24\n",
            "1\n"
          ]
        }
      ],
      "source": [
        "#Factorial number\n",
        "def factorial(n):\n",
        "  if(n==0 or n==1):\n",
        "   return 1\n",
        "  else:\n",
        "   return n*factorial(n-1)\n",
        "\n",
        "print(factorial(5))\n",
        "print(factorial(4))\n",
        "print(factorial(0))"
      ]
    },
    {
      "cell_type": "code",
      "execution_count": null,
      "metadata": {
        "id": "WDresdKuQT0h"
      },
      "outputs": [],
      "source": [
        "#fibonacci series\n",
        "num=int(input(\"input enter number\"))\n",
        "def fib(n):\n",
        " if(n<=1):\n",
        "  return n\n",
        " else:\n",
        "  return (fib(n-1)+fib(n-2))\n",
        "for term in range(num):\n",
        "  print(fib(term))\n"
      ]
    },
    {
      "cell_type": "markdown",
      "metadata": {
        "id": "o9_tL4V_SaXb"
      },
      "source": [
        "#CLASS AND OBJECT"
      ]
    },
    {
      "cell_type": "code",
      "execution_count": null,
      "metadata": {
        "colab": {
          "base_uri": "https://localhost:8080/"
        },
        "id": "X3cgF5ktSfT9",
        "outputId": "e131ca51-893f-4e7f-edb3-d53a4f5d0402"
      },
      "outputs": [
        {
          "name": "stdout",
          "output_type": "stream",
          "text": [
            "<class '__main__.Vehicle'>\n",
            "False\n",
            "False\n"
          ]
        }
      ],
      "source": [
        "class Vehicle:\n",
        "  is_electric=False\n",
        "\n",
        "car=Vehicle() #creating object car\n",
        "print(type(car))\n",
        "print(Vehicle.is_electric) #accessing by class name\n",
        "print(car.is_electric) #accessing by object name\n",
        "\n"
      ]
    },
    {
      "cell_type": "code",
      "execution_count": null,
      "metadata": {
        "colab": {
          "base_uri": "https://localhost:8080/"
        },
        "id": "y10KihiIRZJr",
        "outputId": "fc2e1b74-d72b-4999-8cb8-1e11b9040e68"
      },
      "outputs": [
        {
          "name": "stdout",
          "output_type": "stream",
          "text": [
            "enter first number\n",
            "4\n",
            "enter second number\n",
            "4\n",
            "the sum is 8\n",
            "enter first number\n",
            "5\n",
            "enter second number\n",
            "5\n",
            "the sum is 10\n"
          ]
        }
      ],
      "source": [
        "class Person:\n",
        "   def sum():\n",
        "    num1=int(input(\"enter first number\\n\"))\n",
        "    num2=int(input(\"enter second number\\n\"))\n",
        "    cal=num1+num2\n",
        "    print(\"the sum is\",cal)\n",
        "\n",
        "Person.sum()#call by class name\n",
        "\n",
        "#But when we call by obj we have to pass parameter\n",
        "class Person:\n",
        "   def sum(self): #pass parameter self\n",
        "    num1=int(input(\"enter first number\\n\"))\n",
        "    num2=int(input(\"enter second number\\n\"))\n",
        "    cal=num1+num2\n",
        "    print(\"the sum is\",cal)\n",
        "\n",
        "obj=Person()\n",
        "obj.sum()#call by obj name\n",
        "\n"
      ]
    },
    {
      "cell_type": "code",
      "execution_count": null,
      "metadata": {
        "colab": {
          "base_uri": "https://localhost:8080/",
          "height": 35
        },
        "id": "zdNlr5QQTey_",
        "outputId": "63c47577-62fa-4bc8-b145-50aa83f40592"
      },
      "outputs": [
        {
          "data": {
            "application/vnd.google.colaboratory.intrinsic+json": {
              "type": "string"
            },
            "text/plain": [
              "'car type'"
            ]
          },
          "execution_count": 1,
          "metadata": {},
          "output_type": "execute_result"
        }
      ],
      "source": [
        "class Vehicle:\n",
        "  def __init__(self, car_type):\n",
        "   self.car_type=car_type\n",
        "car=Vehicle(\"car type\")\n",
        "car.car_type\n",
        "\n"
      ]
    },
    {
      "cell_type": "code",
      "execution_count": null,
      "metadata": {
        "colab": {
          "base_uri": "https://localhost:8080/"
        },
        "id": "pEpmtz8OZhJC",
        "outputId": "04df30c2-52b0-4470-fe02-451f4254c2cb"
      },
      "outputs": [
        {
          "name": "stdout",
          "output_type": "stream",
          "text": [
            "Ques: is vehicle electric:False\n"
          ]
        }
      ],
      "source": [
        "#class Method\n",
        "class Vehicle:\n",
        "  is_electric=False\n",
        "  @classmethod\n",
        "  def display_car_type(cls):\n",
        "    print(f\"Ques: is vehicle electric:{cls.is_electric}\")\n",
        "\n",
        "Vehicle.display_car_type() #calling by class method"
      ]
    },
    {
      "cell_type": "code",
      "execution_count": null,
      "metadata": {
        "colab": {
          "base_uri": "https://localhost:8080/"
        },
        "id": "cWLk2DFZeCkz",
        "outputId": "46e978ac-7e0b-4409-9d12-da4bac44a070"
      },
      "outputs": [
        {
          "name": "stdout",
          "output_type": "stream",
          "text": [
            "car colour is:red\n"
          ]
        }
      ],
      "source": [
        "#program for instance method\n",
        "class Vehicle:\n",
        "  def __init__(self, colour):#self is object or object location\n",
        "    self.colour=colour\n",
        "\n",
        "  def display_color(Self):\n",
        "    print(f\"car colour is:{Self.colour}\")\n",
        "\n",
        "car1=Vehicle('red')\n",
        "car1.display_color()"
      ]
    },
    {
      "cell_type": "code",
      "execution_count": null,
      "metadata": {
        "id": "fPXUVYvZgy_Y"
      },
      "outputs": [],
      "source": [
        "#circumference of circle\n",
        "\n"
      ]
    },
    {
      "cell_type": "markdown",
      "metadata": {
        "id": "MmL-etNpddw2"
      },
      "source": [
        "#INHERITANCE"
      ]
    },
    {
      "cell_type": "code",
      "execution_count": null,
      "metadata": {
        "colab": {
          "base_uri": "https://localhost:8080/",
          "height": 35
        },
        "id": "8KKkqYSIdiM4",
        "outputId": "b4108916-a2bb-425d-9e65-b6e7a39ef6ac"
      },
      "outputs": [
        {
          "data": {
            "application/vnd.google.colaboratory.intrinsic+json": {
              "type": "string"
            },
            "text/plain": [
              "'red'"
            ]
          },
          "execution_count": 5,
          "metadata": {},
          "output_type": "execute_result"
        }
      ],
      "source": [
        "#create private variable\n",
        "class Vehicle:\n",
        "  def __init__(self,colour):\n",
        "    self.__vehicle_colour=colour #__vehicle_colour is private variable\n",
        "\n",
        "  def access_private(self): #public method should be used to access private method\n",
        "    return self.__vehicle_colour\n",
        "\n",
        "car=Vehicle(\"red\")\n",
        "#car.__vehicle_colour   #we cant access private variable outside class\n",
        "car.access_private()\n"
      ]
    },
    {
      "cell_type": "code",
      "execution_count": null,
      "metadata": {
        "colab": {
          "base_uri": "https://localhost:8080/"
        },
        "id": "cAIyfKtqng6s",
        "outputId": "f71fc641-ab3d-4e21-f396-638a951ceb00"
      },
      "outputs": [
        {
          "name": "stdout",
          "output_type": "stream",
          "text": [
            "The red  car is starting.\n",
            "The red car is stopping.\n",
            "The red car is driving.\n",
            "The red honda 225cc is being ridden.\n"
          ]
        }
      ],
      "source": [
        "#single heritance\n",
        "\n",
        "## Base class\n",
        "class Vehicle:\n",
        "  def __init__(self, name, color):\n",
        "    self.name = name\n",
        "    self.color = color\n",
        "\n",
        "  def start(self):\n",
        "    print(f\"The {self.color}  {self.name} is starting.\")\n",
        "\n",
        "  def stop(self):\n",
        "    print(f\"The {self.color} {self.name} is stopping.\")\n",
        "\n",
        "## Derived class Car\n",
        "\n",
        "class Car(Vehicle):\n",
        "  def __init__(self, name, color, fuel_type):\n",
        "    super().__init__(name, color) ## super is used to call base class constructor\n",
        "    self.fuel_type = fuel_type\n",
        "\n",
        "  def drive(self):\n",
        "    print(f\"The {self.color} {self.name} is driving.\")\n",
        "\n",
        "## Derived class Bike\n",
        "class Bike(Vehicle):\n",
        "  def __init__(self, name, color, engine_capacity):\n",
        "    super().__init__(name, color) ## super is used to call base class constructor\n",
        "    self.engine_capacity = engine_capacity\n",
        "\n",
        "  def ride(self):\n",
        "    print(f\"The {self.color} {self.name} {self.engine_capacity} is being ridden.\")\n",
        "\n",
        "\n",
        "car=Car(\"car\",\"red\",\"petrol\")\n",
        "car.start()\n",
        "car.stop()\n",
        "car.drive()\n",
        "bike=Bike(\"honda\",\"red\",\"225cc\")\n",
        "bike.ride()\n",
        "\n",
        "\n"
      ]
    },
    {
      "cell_type": "code",
      "execution_count": null,
      "metadata": {
        "colab": {
          "base_uri": "https://localhost:8080/"
        },
        "id": "9xsDaO1lm5Kt",
        "outputId": "d2794510-f363-4a36-ea91-efa2a0eb21ac"
      },
      "outputs": [
        {
          "name": "stdout",
          "output_type": "stream",
          "text": [
            "the engine is starting\n",
            "the engine is stopping\n",
            "the wheels are rotating\n",
            "the car is being driven\n"
          ]
        }
      ],
      "source": [
        "#multiple inheritance\n",
        "\n",
        "class Engine:   #base class 1\n",
        "  def start(self):\n",
        "    print(\"the engine is starting\")\n",
        "\n",
        "  def stop(self):\n",
        "    print(\"the engine is stopping\")\n",
        "\n",
        "class Wheels:     #base class 2\n",
        "  def rotate(self):\n",
        "    print(\"the wheels are rotating\")\n",
        "\n",
        "class Car(Engine, Wheels):   #derived class\n",
        "  def drive(Self):\n",
        "    print(\"the car is being driven\")\n",
        "\n",
        "car=Car()\n",
        "car.start()\n",
        "car.stop()\n",
        "car.rotate()\n",
        "car.drive()\n"
      ]
    },
    {
      "cell_type": "code",
      "execution_count": null,
      "metadata": {
        "id": "Luj6OdrAsRA0"
      },
      "outputs": [],
      "source": []
    },
    {
      "cell_type": "code",
      "execution_count": null,
      "metadata": {
        "colab": {
          "base_uri": "https://localhost:8080/"
        },
        "id": "YpOrXvU6sRFj",
        "outputId": "80dd3ce6-9b03-492f-c615-47cb5ba21f42"
      },
      "outputs": [
        {
          "name": "stdout",
          "output_type": "stream",
          "text": [
            "the sports caris starting.\n",
            "the sports car is being driven.\n",
            "the sports car is accelerating.\n"
          ]
        }
      ],
      "source": [
        "#multilevel inheritance\n",
        "class Vehicle:\n",
        "  def __init__(self,name):\n",
        "    self.name=name;\n",
        "\n",
        "  def start(self):\n",
        "    print(f\"the {self.name}is starting.\")\n",
        "\n",
        "class Car(Vehicle):\n",
        "  def drive(self):\n",
        "    print(f\"the {self.name} is being driven.\")\n",
        "\n",
        "class Sports_car(Car):\n",
        "  def accelerate(self):\n",
        "     print(f\"the {self.name} is accelerating.\")\n",
        "\n",
        "sports_car=Sports_car(\"sports car\")\n",
        "sports_car.start()\n",
        "sports_car.drive()\n",
        "sports_car.accelerate()\n"
      ]
    },
    {
      "cell_type": "markdown",
      "metadata": {
        "id": "UiR8bMP3yj3x"
      },
      "source": [
        "#Polymorphism"
      ]
    },
    {
      "cell_type": "code",
      "execution_count": null,
      "metadata": {
        "colab": {
          "base_uri": "https://localhost:8080/"
        },
        "id": "xxuDOaC4yosV",
        "outputId": "53aae8e5-07b2-42bc-eb7b-aa59de5240ec"
      },
      "outputs": [
        {
          "name": "stdout",
          "output_type": "stream",
          "text": [
            "sports_car yellow is Electric type\n",
            "bigtruck red is Diesel type\n",
            "pulsar red and black is Petrol type\n"
          ]
        }
      ],
      "source": [
        "#class type polymorphism\n",
        "class Car:\n",
        "  def __init__(self, name, color):\n",
        "    self.name = name\n",
        "    self.color = color\n",
        "\n",
        "  def vehicle_type(self):\n",
        "    print(f'{self.name} {self.color} is Electric type')\n",
        "\n",
        "class Truck:\n",
        "  def __init__(self, name, color):\n",
        "    self.name = name\n",
        "    self.color = color\n",
        "\n",
        "  def vehicle_type(self):\n",
        "    print(f'{self.name} {self.color} is Diesel type')\n",
        "\n",
        "class Bike:\n",
        "  def __init__(self, name, color):\n",
        "    self.name = name\n",
        "    self.color = color\n",
        "\n",
        "  def vehicle_type(self):\n",
        "    print(f'{self.name} {self.color} is Petrol type')\n",
        "\n",
        "\n",
        "car=Car(\"sports_car\",\"yellow\")\n",
        "car.vehicle_type()\n",
        "truck=Truck(\"bigtruck\",\"red\")\n",
        "truck.vehicle_type()\n",
        "bike=Bike(\"pulsar\",\"red and black\")\n",
        "bike.vehicle_type()"
      ]
    },
    {
      "cell_type": "markdown",
      "metadata": {
        "id": "tKjF-sYh4fkR"
      },
      "source": [
        "Q. Write a python program to create abstract class with method start(). Create another 2 class Car and Truck inherited from Abstract Class with the implementation of abstract method.\n",
        "HINT:\n",
        "# Create a Abstract Base Class named \"Vehicle\"\n",
        "\n",
        "from abc import ABC, abstractmethod\n",
        "\n",
        "class Vehicle(ABC):\n",
        "\n",
        "  @abstractmethod\n",
        "  def start(self):\n",
        "    pass"
      ]
    },
    {
      "cell_type": "code",
      "execution_count": null,
      "metadata": {
        "colab": {
          "base_uri": "https://localhost:8080/"
        },
        "id": "nzfmsIDBjMgn",
        "outputId": "17039e10-0ef3-427c-863c-3b4ace2c8d4c"
      },
      "outputs": [
        {
          "name": "stdout",
          "output_type": "stream",
          "text": [
            "I am car\n",
            "I am truck\n"
          ]
        }
      ],
      "source": [
        "from abc import ABC, abstractmethod\n",
        "class Vehicle(ABC):\n",
        "   @abstractmethod\n",
        "   def start(self):\n",
        "    pass\n",
        "\n",
        "class Car(Vehicle):\n",
        "  def start(self):\n",
        "    print(\"I am car\")\n",
        "\n",
        "class Truck(Vehicle):\n",
        "  def start(self):\n",
        "    print(\"I am truck\")\n",
        "\n",
        "car=Car()\n",
        "car.start()\n",
        "truck=Truck()\n",
        "truck.start()\n"
      ]
    },
    {
      "cell_type": "code",
      "execution_count": null,
      "metadata": {
        "colab": {
          "base_uri": "https://localhost:8080/"
        },
        "id": "FwPN29puvdq8",
        "outputId": "fec9a217-e088-4631-c92a-61d35512f4e8"
      },
      "outputs": [
        {
          "name": "stdout",
          "output_type": "stream",
          "text": [
            "red car has price = 100\n",
            "green bus has price = 2000\n",
            "red car has price = 100\n",
            "green bus has price = 2000\n"
          ]
        },
        {
          "data": {
            "text/plain": [
              "False"
            ]
          },
          "execution_count": 22,
          "metadata": {},
          "output_type": "execute_result"
        },
        {
          "name": "stdout",
          "output_type": "stream",
          "text": [
            "object is destroyed\n",
            "object is destroyed\n"
          ]
        }
      ],
      "source": [
        "#create class with magic method\n",
        "class Vehicle:\n",
        "  def __init__(self,name,color,price,num_tiers):\n",
        "    self.name=name\n",
        "    self.color=color\n",
        "    self.num_tiers=num_tiers\n",
        "    self.price=price\n",
        "\n",
        "  def __str__(self):\n",
        "    return f\"{self.color} {self.name} has price = {self.price}\"\n",
        "\n",
        "  def __add__(self, other):\n",
        "    return self.price+other.price\n",
        "\n",
        "  def __gt__(self, other):\n",
        "    if(self.price>other.price):\n",
        "      return True\n",
        "\n",
        "    else:\n",
        "      return False\n",
        "\n",
        "  def __del__(self):\n",
        "    print(\"object is destroyed\")\n",
        "\n",
        "    #instatntiate object here\n",
        "\n",
        "car=Vehicle(\"car\",\"red\",100,4)\n",
        "bus=Vehicle(\"bus\",\"green\",2000,8)\n",
        "\n",
        "#invoke __str__\n",
        "print(car)\n",
        "print(bus)\n",
        "print(str(car))\n",
        "print(str(bus))\n",
        "\n",
        "\n",
        "car+bus #obj add (__add__ method )is called\n",
        "\n",
        "car>bus # (__gt__ )method is called\n",
        "\n",
        "\n"
      ]
    },
    {
      "cell_type": "markdown",
      "metadata": {
        "id": "MqnG1Re_9jtn"
      },
      "source": [
        "#File Handling"
      ]
    },
    {
      "cell_type": "code",
      "execution_count": null,
      "metadata": {
        "colab": {
          "base_uri": "https://localhost:8080/",
          "height": 35
        },
        "id": "SCNza34s9n8i",
        "outputId": "e59bfb93-3d96-4da7-fcc5-7710ccbe4e10"
      },
      "outputs": [
        {
          "data": {
            "application/vnd.google.colaboratory.intrinsic+json": {
              "type": "string"
            },
            "text/plain": [
              "'hi my name isBinaya pokhrel'"
            ]
          },
          "execution_count": 10,
          "metadata": {},
          "output_type": "execute_result"
        }
      ],
      "source": [
        "!touch demo.txt #creating file using command\n",
        "\"hi my name isBinaya pokhrel\"\n"
      ]
    },
    {
      "cell_type": "code",
      "execution_count": null,
      "metadata": {
        "colab": {
          "base_uri": "https://localhost:8080/"
        },
        "id": "NaUlgGvm_Byf",
        "outputId": "09e1f172-8ece-4f63-d598-3bf192ab7d02"
      },
      "outputs": [
        {
          "name": "stdout",
          "output_type": "stream",
          "text": [
            "<class '_io.TextIOWrapper'>\n"
          ]
        }
      ],
      "source": [
        "filename=\"demo.txt\"\n",
        "fileobj=open(\"demo.txt\",\"r\") #file open in read mode\n",
        "print(type(fileobj))"
      ]
    },
    {
      "cell_type": "code",
      "execution_count": null,
      "metadata": {
        "id": "l8xIHgkD_tqu"
      },
      "outputs": [],
      "source": [
        "fileobj=open(\"demo.txt\",\"w\") #file open in write mode"
      ]
    },
    {
      "cell_type": "code",
      "execution_count": null,
      "metadata": {
        "id": "duPJuPgw_7pt"
      },
      "outputs": [],
      "source": [
        "fileobj=open(\"demo.txt\",\"a\") #file open in append mode"
      ]
    },
    {
      "cell_type": "code",
      "execution_count": null,
      "metadata": {
        "colab": {
          "base_uri": "https://localhost:8080/"
        },
        "id": "ZEnWWco7AiEb",
        "outputId": "9a1608b2-efc7-4101-87a0-7b07c6c4c27b"
      },
      "outputs": [
        {
          "name": "stdout",
          "output_type": "stream",
          "text": [
            "hy how are youNow the file has more content! Now the file has more content! Now the file has more content!\n"
          ]
        }
      ],
      "source": [
        "with open(\"demo.txt\",\"r\") as fileobj: #reading file for best practise\n",
        "  file_content=fileobj.read()\n",
        "print(file_content)\n",
        "fileobj.close()\n"
      ]
    },
    {
      "cell_type": "code",
      "execution_count": null,
      "metadata": {
        "id": "HiY0QkT_AARv"
      },
      "outputs": [],
      "source": [
        "f = open(\"demo.txt\", \"a\")  #writing in file in append mode\n",
        "f.write(\" Now the file has more content!\")\n",
        "f.close()"
      ]
    },
    {
      "cell_type": "code",
      "execution_count": null,
      "metadata": {
        "id": "hiClAU5YCIMO"
      },
      "outputs": [],
      "source": [
        "filecreate=open(\"demo1.txt\", \"x\") #creating newfile"
      ]
    },
    {
      "cell_type": "code",
      "execution_count": null,
      "metadata": {
        "id": "CfIB_3MJEOlH"
      },
      "outputs": [],
      "source": [
        "with open(\"demo1.txt\",\"w\") as fileobj: #writing file\n",
        " fileobj.write(\"Hi this is new file\") #we dont need to close file while using open()as:"
      ]
    },
    {
      "cell_type": "code",
      "execution_count": null,
      "metadata": {
        "id": "-DOgxZXcHfc5"
      },
      "outputs": [],
      "source": [
        "import os #os module is used to remove or delete file\n",
        "os.remove(\"demo.txt\") #command like !ls can be used to view created file name"
      ]
    },
    {
      "cell_type": "code",
      "execution_count": null,
      "metadata": {
        "id": "YieDA0TFIXEg"
      },
      "outputs": [],
      "source": [
        "#if os.path.exists(filename) can be used to check file exist or not it return message in boolean form"
      ]
    },
    {
      "cell_type": "markdown",
      "metadata": {
        "id": "Upf2ry3SKbgr"
      },
      "source": [
        "#Database in Python"
      ]
    },
    {
      "cell_type": "code",
      "execution_count": null,
      "metadata": {
        "colab": {
          "base_uri": "https://localhost:8080/"
        },
        "id": "ZW8SKeeMKjAE",
        "outputId": "a8f966a1-dd71-40b2-c1be-713718b02ca6"
      },
      "outputs": [
        {
          "output_type": "stream",
          "name": "stdout",
          "text": [
            "open database successfullly\n"
          ]
        }
      ],
      "source": [
        "import sqlite3  #creating database\n",
        "db_name=\"user.db\"\n",
        "conn=sqlite3.connect(db_name) #sqlite3 establish connection with database\n",
        "print(\"open database successfullly\")\n",
        "\n"
      ]
    },
    {
      "cell_type": "code",
      "source": [
        "conn.execute(\"\"\"CREATE TABLE Employees\n",
        "       (\n",
        "         ID INT PRIMARY KEY NOT NULL,\n",
        "         NAME VARCHAR(50) NOT NULL,\n",
        "         AGE INT NOT NULL,\n",
        "         ADDRESS TEXT,\n",
        "         SALARY FLOAT\n",
        "\n",
        "          )\n",
        "  \"\"\")\n",
        "print(\"creted table successfully\")"
      ],
      "metadata": {
        "colab": {
          "base_uri": "https://localhost:8080/"
        },
        "id": "u16kNJR8KI-4",
        "outputId": "f368bf39-1769-4afb-ac7f-e4f52bedf158"
      },
      "execution_count": null,
      "outputs": [
        {
          "output_type": "stream",
          "name": "stdout",
          "text": [
            "creted table successfully\n"
          ]
        }
      ]
    },
    {
      "cell_type": "code",
      "source": [
        "conn.execute(\"\"\" INSERT INTO Employees(ID, NAME,AGE,ADDRESS,SALARY) VALUES (3,\"shyam\",32,\"KATHMANDU\", 10000.00)\"\"\")\n",
        "print(\"inserted data successfully\")\n",
        "conn.commit()"
      ],
      "metadata": {
        "colab": {
          "base_uri": "https://localhost:8080/"
        },
        "id": "x2-gcE5SK45k",
        "outputId": "f950d98b-156d-47e4-cedd-7b9ae7b455a8"
      },
      "execution_count": null,
      "outputs": [
        {
          "output_type": "stream",
          "name": "stdout",
          "text": [
            "inserted data successfully\n"
          ]
        }
      ]
    },
    {
      "cell_type": "code",
      "source": [
        "cursor=conn.execute(\"SELECT * FROM Employees\").fetchall();\n",
        "print(cursor)"
      ],
      "metadata": {
        "colab": {
          "base_uri": "https://localhost:8080/"
        },
        "id": "jHRrfQvIUad-",
        "outputId": "21010113-8187-44e6-9f90-4a85dc549448"
      },
      "execution_count": null,
      "outputs": [
        {
          "output_type": "stream",
          "name": "stdout",
          "text": [
            "[(2, 'RAM', 32, 'KATHMANDU', 20000.0), (3, 'shyam', 32, 'KATHMANDU', 10000.0)]\n"
          ]
        }
      ]
    },
    {
      "cell_type": "code",
      "source": [
        "conn.execute(\"UPDATE Employees SET SALARY=50 WHERE ID=1\")\n",
        "conn.commit()"
      ],
      "metadata": {
        "id": "dpjdN6NfVTOh"
      },
      "execution_count": null,
      "outputs": []
    },
    {
      "cell_type": "code",
      "source": [
        "conn.execute(\"UPDATE Employees SET ADDRESS='ramechap' WHERE ID=1\")\n",
        "conn.commit()"
      ],
      "metadata": {
        "id": "vjr9o3NWWMAo"
      },
      "execution_count": null,
      "outputs": []
    },
    {
      "cell_type": "code",
      "source": [
        "conn.execute(\"DELETE FROM Employees WHERE ID=1\")\n",
        "conn.commit()\n"
      ],
      "metadata": {
        "id": "1XyNrUmmW-en"
      },
      "execution_count": null,
      "outputs": []
    },
    {
      "cell_type": "markdown",
      "source": [
        "#Exception Handling"
      ],
      "metadata": {
        "id": "fxIlewrJasOI"
      }
    },
    {
      "cell_type": "code",
      "source": [
        "a=int(input(\"enter first number\"))\n",
        "b=int(input(\"enter second number\"))\n",
        "try:\n",
        "  div=a/b\n",
        "except Exception as e: #it handle all exception\n",
        "    print(\"exception occur:\",e)\n",
        "print(\"hello world\")\n"
      ],
      "metadata": {
        "colab": {
          "base_uri": "https://localhost:8080/"
        },
        "id": "RUCheKuFawVn",
        "outputId": "124f8413-6e4d-4c04-fbd1-5d462a181cb0"
      },
      "execution_count": null,
      "outputs": [
        {
          "output_type": "stream",
          "name": "stdout",
          "text": [
            "enter first number5\n",
            "enter second number0\n",
            "exception occur: division by zero\n",
            "hello world\n"
          ]
        }
      ]
    },
    {
      "cell_type": "code",
      "source": [
        "#Handling multiple exception\n",
        "try:\n",
        "     a=int(input(\"enter first number\"))\n",
        "     b=int(input(\"enter second number\"))\n",
        "     division=a/b\n",
        "\n",
        "except ValueError:\n",
        "\n",
        "     print(\"cannot type cast string to int\")\n",
        "\n",
        "except ZeroDivisionError:\n",
        "\n",
        "     print(\"division of zero occured which is not possible\")\n",
        "\n",
        "except Exception as e:\n",
        "\n",
        "     print(\"exception occured. Exception name is:\", e)"
      ],
      "metadata": {
        "colab": {
          "base_uri": "https://localhost:8080/"
        },
        "id": "_d0b8ddDXPuU",
        "outputId": "f965eeff-716c-4e05-8201-0c7581c2a08e"
      },
      "execution_count": null,
      "outputs": [
        {
          "output_type": "stream",
          "name": "stdout",
          "text": [
            "enter first number5\n",
            "enter second numberh\n",
            "cannot type cast string to int\n"
          ]
        }
      ]
    },
    {
      "cell_type": "code",
      "source": [
        "#Example of try except finally block\n",
        "try:\n",
        "     a=int(input(\"enter first number\"))\n",
        "     b=int(input(\"enter second number\"))\n",
        "     division=a/b\n",
        "     print(\"division\")\n",
        "\n",
        "except ValueError:\n",
        "\n",
        "     print(\"cannot type cast string to int\")\n",
        "\n",
        "except ZeroDivisionError:\n",
        "\n",
        "     print(\"division of zero occured which is not possible\")\n",
        "\n",
        "finally:\n",
        "  print(\"program execution completed\")\n",
        "\n"
      ],
      "metadata": {
        "colab": {
          "base_uri": "https://localhost:8080/"
        },
        "id": "e24ZOOiaaXoR",
        "outputId": "cc6c1518-b7c0-42ce-9ddc-982b36e090ef"
      },
      "execution_count": null,
      "outputs": [
        {
          "output_type": "stream",
          "name": "stdout",
          "text": [
            "enter first number5\n",
            "enter second number0\n",
            "division of zero occured which is not possible\n",
            "program execution completed\n"
          ]
        }
      ]
    },
    {
      "cell_type": "code",
      "source": [
        "#Raising exception\n",
        "def calculate_square_root(number):\n",
        "  if number < 0:\n",
        "    raise ValueError(\"cannot calculate square root of negative number\")\n",
        "  else:\n",
        "    return number**0.5\n",
        "\n",
        "#num=4\n",
        "num=-4 #it raise exception\n",
        "try:\n",
        " result=calculate_square_root(num)\n",
        " print(result)\n",
        "except ValueError as e:\n",
        "  print(\"value error:\",e)\n"
      ],
      "metadata": {
        "colab": {
          "base_uri": "https://localhost:8080/"
        },
        "id": "I3CscSiKcNwy",
        "outputId": "db57d4db-30b3-45ac-c19f-8ec39b25c9f9"
      },
      "execution_count": null,
      "outputs": [
        {
          "output_type": "stream",
          "name": "stdout",
          "text": [
            "value error: cannot calculate square root of negative number\n"
          ]
        }
      ]
    }
  ],
  "metadata": {
    "colab": {
      "provenance": [],
      "authorship_tag": "ABX9TyOu6TYRsUxFtwsBSWxq6463",
      "include_colab_link": true
    },
    "kernelspec": {
      "display_name": "Python 3",
      "name": "python3"
    },
    "language_info": {
      "name": "python"
    }
  },
  "nbformat": 4,
  "nbformat_minor": 0
}